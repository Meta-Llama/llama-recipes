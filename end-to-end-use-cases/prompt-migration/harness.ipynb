{
 "cells": [
  {
   "cell_type": "markdown",
   "metadata": {},
   "source": [
    "### Imports & Env Setup"
   ]
  },
  {
   "cell_type": "code",
   "execution_count": 1,
   "metadata": {},
   "outputs": [
    {
     "name": "stderr",
     "output_type": "stream",
     "text": [
      "/Users/knrz/Git/meta-llama/prompt-migrator/.venv/lib/python3.10/site-packages/pydantic/_internal/_config.py:345: UserWarning: Valid config keys have changed in V2:\n",
      "* 'fields' has been removed\n",
      "  warnings.warn(message, UserWarning)\n",
      "/Users/knrz/Git/meta-llama/prompt-migrator/.venv/lib/python3.10/site-packages/tqdm/auto.py:21: TqdmWarning: IProgress not found. Please update jupyter and ipywidgets. See https://ipywidgets.readthedocs.io/en/stable/user_install.html\n",
      "  from .autonotebook import tqdm as notebook_tqdm\n"
     ]
    }
   ],
   "source": [
    "%reload_ext autoreload\n",
    "%autoreload 2\n",
    "\n",
    "from dotenv import load_dotenv\n",
    "load_dotenv()\n",
    "\n",
    "import dspy\n",
    "\n",
    "from prompt_migrator.benchmarks import llama_mmlu_pro, leaderboard_mmlu_pro"
   ]
  },
  {
   "cell_type": "markdown",
   "metadata": {},
   "source": [
    "### Configuration"
   ]
  },
  {
   "cell_type": "code",
   "execution_count": 2,
   "metadata": {},
   "outputs": [],
   "source": [
    "NUM_THREADS = 16\n",
    "\n",
    "FEW_SHOTS = 5\n",
    "\n",
    "# See https://docs.litellm.ai/docs/providers/vllm for details\n",
    "TASK_MODEL = dspy.LM(\n",
    "    model=\"gpt-4o-mini\",\n",
    "    # base_url: Optional[str] = None, # or api_base ?\n",
    "    # api_version: Optional[str] = None,\n",
    "    # api_key: Optional[str] = None,\n",
    "    # seed: Optional[int] = None,\n",
    "    # max_tokens: Optional[int] = None,\n",
    "    # timeout: Optional[Union[float, int]] = None,\n",
    ")\n",
    "PROMPT_MODEL = dspy.LM(\n",
    "    model=\"gpt-4o\",\n",
    "    # base_url: Optional[str] = None, # or api_base ?\n",
    "    # api_version: Optional[str] = None,\n",
    "    # api_key: Optional[str] = None,\n",
    "    # seed: Optional[int] = None,\n",
    "    # max_tokens: Optional[int] = None,\n",
    "    # timeout: Optional[Union[float, int]] = None,\n",
    ")\n",
    "\n",
    "dspy.configure(lm=TASK_MODEL)\n",
    "\n",
    "# replace this with llama_mmlu_pro or whatever\n",
    "benchmark = leaderboard_mmlu_pro\n",
    "\n",
    "# Without chain of thought:\n",
    "# program = dspy.Predict(\n",
    "#     benchmark.signature(\"\")\n",
    "# )\n",
    "\n",
    "# With chain of thought:\n",
    "program = dspy.ChainOfThought(\n",
    "    benchmark.signature(\"\") # put your initial system prompt here, or leave blank\n",
    ")\n",
    "\n",
    "evaluate = dspy.Evaluate(\n",
    "    devset=[],\n",
    "    metric=benchmark.metric,\n",
    "    num_threads=NUM_THREADS,\n",
    "    display_progress=True,\n",
    "    display_table=True,\n",
    "    return_all_scores=True,\n",
    "    return_outputs=True,\n",
    ")"
   ]
  },
  {
   "cell_type": "markdown",
   "metadata": {},
   "source": [
    "### Load dataset"
   ]
  },
  {
   "cell_type": "code",
   "execution_count": 3,
   "metadata": {},
   "outputs": [
    {
     "data": {
      "text/plain": [
       "(1203, 2165, 8664)"
      ]
     },
     "execution_count": 3,
     "metadata": {},
     "output_type": "execute_result"
    }
   ],
   "source": [
    "trainset, valset, testset = benchmark.datasets(\n",
    "    train_size=0.1,\n",
    "    validation_size=0.2,\n",
    ")\n",
    "\n",
    "len(trainset), len(valset), len(testset)"
   ]
  },
  {
   "cell_type": "markdown",
   "metadata": {},
   "source": [
    "### Optimize Subset + Evaluation"
   ]
  },
  {
   "cell_type": "code",
   "execution_count": 4,
   "metadata": {},
   "outputs": [
    {
     "name": "stderr",
     "output_type": "stream",
     "text": [
      "2025/01/15 13:50:48 INFO dspy.teleprompt.mipro_optimizer_v2: \n",
      "RUNNING WITH THE FOLLOWING LIGHT AUTO RUN SETTINGS:\n",
      "num_trials: 7\n",
      "minibatch: False\n",
      "num_candidates: 5\n",
      "valset size: 20\n",
      "\n",
      "2025/01/15 13:50:48 INFO dspy.teleprompt.mipro_optimizer_v2: \n",
      "==> STEP 1: BOOTSTRAP FEWSHOT EXAMPLES <==\n",
      "2025/01/15 13:50:48 INFO dspy.teleprompt.mipro_optimizer_v2: These will be used as few-shot example candidates for our program and for creating instructions.\n",
      "\n",
      "2025/01/15 13:50:48 INFO dspy.teleprompt.mipro_optimizer_v2: Bootstrapping N=5 sets of demonstrations...\n"
     ]
    },
    {
     "name": "stdout",
     "output_type": "stream",
     "text": [
      "Bootstrapping set 1/5\n",
      "Bootstrapping set 2/5\n",
      "Bootstrapping set 3/5\n"
     ]
    },
    {
     "name": "stderr",
     "output_type": "stream",
     "text": [
      " 25%|██▌       | 5/20 [00:27<01:22,  5.53s/it]\n"
     ]
    },
    {
     "name": "stdout",
     "output_type": "stream",
     "text": [
      "Bootstrapped 4 full traces after 5 examples for up to 1 rounds, amounting to 5 attempts.\n",
      "Bootstrapping set 4/5\n"
     ]
    },
    {
     "name": "stderr",
     "output_type": "stream",
     "text": [
      " 20%|██        | 4/20 [00:12<00:50,  3.17s/it]\n"
     ]
    },
    {
     "name": "stdout",
     "output_type": "stream",
     "text": [
      "Bootstrapped 4 full traces after 4 examples for up to 1 rounds, amounting to 4 attempts.\n",
      "Bootstrapping set 5/5\n"
     ]
    },
    {
     "name": "stderr",
     "output_type": "stream",
     "text": [
      " 20%|██        | 4/20 [00:20<01:21,  5.12s/it]\n",
      "2025/01/15 13:51:49 INFO dspy.teleprompt.mipro_optimizer_v2: \n",
      "==> STEP 2: PROPOSE INSTRUCTION CANDIDATES <==\n",
      "2025/01/15 13:51:49 INFO dspy.teleprompt.mipro_optimizer_v2: We will use the few-shot examples from the previous step, a generated dataset summary, a summary of the program code, and a randomly selected prompting tip to propose instructions.\n"
     ]
    },
    {
     "name": "stdout",
     "output_type": "stream",
     "text": [
      "Bootstrapped 2 full traces after 4 examples for up to 1 rounds, amounting to 4 attempts.\n"
     ]
    },
    {
     "name": "stderr",
     "output_type": "stream",
     "text": [
      "2025/01/15 13:52:21 INFO dspy.teleprompt.mipro_optimizer_v2: \n",
      "Proposing instructions...\n",
      "\n",
      "2025/01/15 13:53:12 INFO dspy.teleprompt.mipro_optimizer_v2: Proposed Instructions for Predictor 0:\n",
      "\n",
      "2025/01/15 13:53:12 INFO dspy.teleprompt.mipro_optimizer_v2: 0: Given the fields `question`, `options`, produce the fields `reasoning`, `answer`.\n",
      "\n",
      "2025/01/15 13:53:12 INFO dspy.teleprompt.mipro_optimizer_v2: 1: You are given a multiple-choice question along with a set of options. Your task is to analyze the question and options, provide a detailed step-by-step reasoning process, and select the correct answer. Begin by understanding the question's requirements and evaluating each option logically. Conclude your response with the reasoning that led to your final answer, ensuring that your choice is well-supported by the reasoning provided. Output your findings in the format: `reasoning` followed by `answer`.\n",
      "\n",
      "2025/01/15 13:53:12 INFO dspy.teleprompt.mipro_optimizer_v2: 2: Analyze the given multiple-choice question and its options. Provide a detailed step-by-step reasoning process that leads to the selection of the correct answer. Use logical reasoning and domain-specific knowledge to ensure that each step is clear and contributes to determining the correct option. Finally, state the chosen answer based on your reasoning.\n",
      "\n",
      "2025/01/15 13:53:12 INFO dspy.teleprompt.mipro_optimizer_v2: 3: Analyze the given multiple-choice `question` and `options`, and provide a detailed `reasoning` that logically explains the steps taken to arrive at the correct `answer`. Your explanation should demonstrate a clear understanding of the subject matter and articulate the thought process behind selecting the most appropriate option.\n",
      "\n",
      "2025/01/15 13:53:12 INFO dspy.teleprompt.mipro_optimizer_v2: 4: Imagine you are taking a crucial exam that will determine your future career path. You are presented with a challenging multiple-choice question that requires not only selecting the correct answer but also demonstrating a clear and logical reasoning process. Given the `question` and a list of `options`, provide a step-by-step `reasoning` that leads to the correct `answer`. Your detailed explanation is essential to showcase your problem-solving skills and ensure you make the right choice under pressure.\n",
      "\n",
      "2025/01/15 13:53:12 INFO dspy.teleprompt.mipro_optimizer_v2: \n",
      "\n",
      "2025/01/15 13:53:12 INFO dspy.teleprompt.mipro_optimizer_v2: Evaluating the default program...\n",
      "\n"
     ]
    },
    {
     "name": "stdout",
     "output_type": "stream",
     "text": [
      "Average Metric: 0.00 / 20 (0.0%): 100%|██████████| 20/20 [00:11<00:00,  1.67it/s]"
     ]
    },
    {
     "name": "stderr",
     "output_type": "stream",
     "text": [
      "2025/01/15 13:53:24 INFO dspy.evaluate.evaluate: Average Metric: 0 / 20 (0.0%)\n",
      "2025/01/15 13:53:24 INFO dspy.teleprompt.mipro_optimizer_v2: Default program score: 0.0\n",
      "\n",
      "2025/01/15 13:53:24 INFO dspy.teleprompt.mipro_optimizer_v2: ==> STEP 3: FINDING OPTIMAL PROMPT PARAMETERS <==\n",
      "2025/01/15 13:53:24 INFO dspy.teleprompt.mipro_optimizer_v2: We will evaluate the program over a series of trials with different combinations of instructions and few-shot examples to find the optimal combination using Bayesian Optimization.\n",
      "\n",
      "/Users/knrz/Git/meta-llama/prompt-migrator/.venv/lib/python3.10/site-packages/optuna/_experimental.py:31: ExperimentalWarning: Argument ``multivariate`` is an experimental feature. The interface can change in the future.\n",
      "  warnings.warn(\n",
      "2025/01/15 13:53:24 INFO dspy.teleprompt.mipro_optimizer_v2: ===== Trial 1 / 7 =====\n"
     ]
    },
    {
     "name": "stdout",
     "output_type": "stream",
     "text": [
      "\n",
      "Average Metric: 11.00 / 20 (55.0%): 100%|██████████| 20/20 [00:15<00:00,  1.31it/s]"
     ]
    },
    {
     "name": "stderr",
     "output_type": "stream",
     "text": [
      "2025/01/15 13:53:40 INFO dspy.evaluate.evaluate: Average Metric: 11 / 20 (55.0%)\n",
      "2025/01/15 13:53:40 INFO dspy.teleprompt.mipro_optimizer_v2: \u001b[92mBest full score so far!\u001b[0m Score: 55.0\n",
      "2025/01/15 13:53:40 INFO dspy.teleprompt.mipro_optimizer_v2: Score: 55.0 with parameters ['Predictor 0: Instruction 1', 'Predictor 0: Few-Shot Set 1'].\n",
      "2025/01/15 13:53:40 INFO dspy.teleprompt.mipro_optimizer_v2: Scores so far: [0.0, 55.0]\n",
      "2025/01/15 13:53:40 INFO dspy.teleprompt.mipro_optimizer_v2: Best score so far: 55.0\n",
      "2025/01/15 13:53:40 INFO dspy.teleprompt.mipro_optimizer_v2: =======================\n",
      "\n",
      "\n",
      "2025/01/15 13:53:40 INFO dspy.teleprompt.mipro_optimizer_v2: ===== Trial 2 / 7 =====\n"
     ]
    },
    {
     "name": "stdout",
     "output_type": "stream",
     "text": [
      "\n",
      "Average Metric: 13.00 / 20 (65.0%): 100%|██████████| 20/20 [00:17<00:00,  1.12it/s]"
     ]
    },
    {
     "name": "stderr",
     "output_type": "stream",
     "text": [
      "2025/01/15 13:53:58 INFO dspy.evaluate.evaluate: Average Metric: 13 / 20 (65.0%)\n",
      "2025/01/15 13:53:58 INFO dspy.teleprompt.mipro_optimizer_v2: \u001b[92mBest full score so far!\u001b[0m Score: 65.0\n",
      "2025/01/15 13:53:58 INFO dspy.teleprompt.mipro_optimizer_v2: Score: 65.0 with parameters ['Predictor 0: Instruction 2', 'Predictor 0: Few-Shot Set 1'].\n",
      "2025/01/15 13:53:58 INFO dspy.teleprompt.mipro_optimizer_v2: Scores so far: [0.0, 55.0, 65.0]\n",
      "2025/01/15 13:53:58 INFO dspy.teleprompt.mipro_optimizer_v2: Best score so far: 65.0\n",
      "2025/01/15 13:53:58 INFO dspy.teleprompt.mipro_optimizer_v2: =======================\n",
      "\n",
      "\n",
      "2025/01/15 13:53:58 INFO dspy.teleprompt.mipro_optimizer_v2: ===== Trial 3 / 7 =====\n"
     ]
    },
    {
     "name": "stdout",
     "output_type": "stream",
     "text": [
      "\n",
      "Average Metric: 11.00 / 20 (55.0%): 100%|██████████| 20/20 [00:13<00:00,  1.47it/s]"
     ]
    },
    {
     "name": "stderr",
     "output_type": "stream",
     "text": [
      "2025/01/15 13:54:11 INFO dspy.evaluate.evaluate: Average Metric: 11 / 20 (55.0%)\n",
      "2025/01/15 13:54:11 INFO dspy.teleprompt.mipro_optimizer_v2: Score: 55.0 with parameters ['Predictor 0: Instruction 4', 'Predictor 0: Few-Shot Set 1'].\n",
      "2025/01/15 13:54:11 INFO dspy.teleprompt.mipro_optimizer_v2: Scores so far: [0.0, 55.0, 65.0, 55.0]\n",
      "2025/01/15 13:54:11 INFO dspy.teleprompt.mipro_optimizer_v2: Best score so far: 65.0\n",
      "2025/01/15 13:54:11 INFO dspy.teleprompt.mipro_optimizer_v2: =======================\n",
      "\n",
      "\n",
      "2025/01/15 13:54:11 INFO dspy.teleprompt.mipro_optimizer_v2: ===== Trial 4 / 7 =====\n"
     ]
    },
    {
     "name": "stdout",
     "output_type": "stream",
     "text": [
      "\n",
      "Average Metric: 13.00 / 20 (65.0%): 100%|██████████| 20/20 [00:00<00:00, 2174.12it/s]"
     ]
    },
    {
     "name": "stderr",
     "output_type": "stream",
     "text": [
      "2025/01/15 13:54:12 INFO dspy.evaluate.evaluate: Average Metric: 13 / 20 (65.0%)\n",
      "2025/01/15 13:54:12 INFO dspy.teleprompt.mipro_optimizer_v2: Score: 65.0 with parameters ['Predictor 0: Instruction 2', 'Predictor 0: Few-Shot Set 1'].\n",
      "2025/01/15 13:54:12 INFO dspy.teleprompt.mipro_optimizer_v2: Scores so far: [0.0, 55.0, 65.0, 55.0, 65.0]\n",
      "2025/01/15 13:54:12 INFO dspy.teleprompt.mipro_optimizer_v2: Best score so far: 65.0\n",
      "2025/01/15 13:54:12 INFO dspy.teleprompt.mipro_optimizer_v2: =======================\n",
      "\n",
      "\n",
      "2025/01/15 13:54:12 INFO dspy.teleprompt.mipro_optimizer_v2: ===== Trial 5 / 7 =====\n"
     ]
    },
    {
     "name": "stdout",
     "output_type": "stream",
     "text": [
      "\n",
      "Average Metric: 13.00 / 20 (65.0%): 100%|██████████| 20/20 [00:15<00:00,  1.30it/s]"
     ]
    },
    {
     "name": "stderr",
     "output_type": "stream",
     "text": [
      "2025/01/15 13:54:27 INFO dspy.evaluate.evaluate: Average Metric: 13 / 20 (65.0%)\n",
      "2025/01/15 13:54:27 INFO dspy.teleprompt.mipro_optimizer_v2: Score: 65.0 with parameters ['Predictor 0: Instruction 4', 'Predictor 0: Few-Shot Set 3'].\n",
      "2025/01/15 13:54:27 INFO dspy.teleprompt.mipro_optimizer_v2: Scores so far: [0.0, 55.0, 65.0, 55.0, 65.0, 65.0]\n",
      "2025/01/15 13:54:27 INFO dspy.teleprompt.mipro_optimizer_v2: Best score so far: 65.0\n",
      "2025/01/15 13:54:27 INFO dspy.teleprompt.mipro_optimizer_v2: =======================\n",
      "\n",
      "\n",
      "2025/01/15 13:54:27 INFO dspy.teleprompt.mipro_optimizer_v2: ===== Trial 6 / 7 =====\n"
     ]
    },
    {
     "name": "stdout",
     "output_type": "stream",
     "text": [
      "\n",
      "Average Metric: 14.00 / 20 (70.0%): 100%|██████████| 20/20 [00:10<00:00,  1.85it/s]"
     ]
    },
    {
     "name": "stderr",
     "output_type": "stream",
     "text": [
      "2025/01/15 13:54:38 INFO dspy.evaluate.evaluate: Average Metric: 14 / 20 (70.0%)\n",
      "2025/01/15 13:54:38 INFO dspy.teleprompt.mipro_optimizer_v2: \u001b[92mBest full score so far!\u001b[0m Score: 70.0\n",
      "2025/01/15 13:54:38 INFO dspy.teleprompt.mipro_optimizer_v2: Score: 70.0 with parameters ['Predictor 0: Instruction 0', 'Predictor 0: Few-Shot Set 1'].\n",
      "2025/01/15 13:54:38 INFO dspy.teleprompt.mipro_optimizer_v2: Scores so far: [0.0, 55.0, 65.0, 55.0, 65.0, 65.0, 70.0]\n",
      "2025/01/15 13:54:38 INFO dspy.teleprompt.mipro_optimizer_v2: Best score so far: 70.0\n",
      "2025/01/15 13:54:38 INFO dspy.teleprompt.mipro_optimizer_v2: =======================\n",
      "\n",
      "\n",
      "2025/01/15 13:54:38 INFO dspy.teleprompt.mipro_optimizer_v2: ===== Trial 7 / 7 =====\n"
     ]
    },
    {
     "name": "stdout",
     "output_type": "stream",
     "text": [
      "\n",
      "Average Metric: 11.00 / 20 (55.0%): 100%|██████████| 20/20 [00:13<00:00,  1.46it/s]"
     ]
    },
    {
     "name": "stderr",
     "output_type": "stream",
     "text": [
      "2025/01/15 13:54:52 INFO dspy.evaluate.evaluate: Average Metric: 11 / 20 (55.0%)\n",
      "2025/01/15 13:54:52 INFO dspy.teleprompt.mipro_optimizer_v2: Score: 55.0 with parameters ['Predictor 0: Instruction 4', 'Predictor 0: Few-Shot Set 4'].\n",
      "2025/01/15 13:54:52 INFO dspy.teleprompt.mipro_optimizer_v2: Scores so far: [0.0, 55.0, 65.0, 55.0, 65.0, 65.0, 70.0, 55.0]\n",
      "2025/01/15 13:54:52 INFO dspy.teleprompt.mipro_optimizer_v2: Best score so far: 70.0\n",
      "2025/01/15 13:54:52 INFO dspy.teleprompt.mipro_optimizer_v2: =======================\n",
      "\n",
      "\n",
      "2025/01/15 13:54:52 INFO dspy.teleprompt.mipro_optimizer_v2: Returning best identified program with score 70.0!\n"
     ]
    },
    {
     "name": "stdout",
     "output_type": "stream",
     "text": [
      "\n"
     ]
    }
   ],
   "source": [
    "subset_size = 20\n",
    "optimizer = dspy.MIPROv2(\n",
    "    metric=benchmark.metric,\n",
    "    auto=\"light\",\n",
    "    num_threads=NUM_THREADS,\n",
    "    task_model=TASK_MODEL,\n",
    "    prompt_model=PROMPT_MODEL,\n",
    "    max_labeled_demos=FEW_SHOTS,\n",
    ")\n",
    "\n",
    "optimized_program = optimizer.compile(\n",
    "    program,\n",
    "    trainset=trainset[:subset_size],\n",
    "    valset=valset[:subset_size],\n",
    "    requires_permission_to_run=False,\n",
    ")"
   ]
  },
  {
   "cell_type": "code",
   "execution_count": 13,
   "metadata": {},
   "outputs": [
    {
     "name": "stdout",
     "output_type": "stream",
     "text": [
      "BEST PROMPT:\n",
      " Given the fields `question`, `options`, produce the fields `reasoning`, `answer`.\n"
     ]
    }
   ],
   "source": [
    "print(\"BEST PROMPT:\\n\", optimized_program.predict.signature.instructions)"
   ]
  },
  {
   "cell_type": "code",
   "execution_count": 5,
   "metadata": {},
   "outputs": [
    {
     "name": "stdout",
     "output_type": "stream",
     "text": [
      "Average Metric: 11.00 / 20 (55.0%): 100%|██████████| 20/20 [00:12<00:00,  1.65it/s]"
     ]
    },
    {
     "name": "stderr",
     "output_type": "stream",
     "text": [
      "2025/01/15 13:55:52 INFO dspy.evaluate.evaluate: Average Metric: 11 / 20 (55.0%)\n"
     ]
    },
    {
     "name": "stdout",
     "output_type": "stream",
     "text": [
      "\n"
     ]
    },
    {
     "data": {
      "text/html": [
       "<div>\n",
       "<style scoped>\n",
       "    .dataframe tbody tr th:only-of-type {\n",
       "        vertical-align: middle;\n",
       "    }\n",
       "\n",
       "    .dataframe tbody tr th {\n",
       "        vertical-align: top;\n",
       "    }\n",
       "\n",
       "    .dataframe thead th {\n",
       "        text-align: right;\n",
       "    }\n",
       "</style>\n",
       "<table border=\"1\" class=\"dataframe\">\n",
       "  <thead>\n",
       "    <tr style=\"text-align: right;\">\n",
       "      <th></th>\n",
       "      <th>question</th>\n",
       "      <th>options</th>\n",
       "      <th>example_answer</th>\n",
       "      <th>reasoning</th>\n",
       "      <th>pred_answer</th>\n",
       "      <th>metric</th>\n",
       "    </tr>\n",
       "  </thead>\n",
       "  <tbody>\n",
       "    <tr>\n",
       "      <th>0</th>\n",
       "      <td>In 1935 roughly how many Americans were in favor of Social Securit...</td>\n",
       "      <td>[A. 20%, B. 30%, C. 60%, D. 100%, E. 40%, F. 10%, G. 80%, H. 90%, ...</td>\n",
       "      <td>H</td>\n",
       "      <td>Not supplied for this particular example.</td>\n",
       "      <td>C</td>\n",
       "      <td></td>\n",
       "    </tr>\n",
       "    <tr>\n",
       "      <th>1</th>\n",
       "      <td>A circular opening of radius 0.8mm in an opaque screen is illumina...</td>\n",
       "      <td>['A. Wavelength of light for bright spot: 1.25 × 10^-6 m, Waveleng...</td>\n",
       "      <td>B</td>\n",
       "      <td>To find the wavelength of light for both bright and dark spots, we...</td>\n",
       "      <td>B. Wavelength of light for bright spot: 1.17 × 10^-6 m, Wavelength...</td>\n",
       "      <td></td>\n",
       "    </tr>\n",
       "    <tr>\n",
       "      <th>2</th>\n",
       "      <td>For the dissociation reaction cl_2(g) &gt; 2Cl(g) at 1200 °K, calcula...</td>\n",
       "      <td>['A. 1.10 × 10^-4', 'B. 6.89 × 10^-6', 'C. 8.97 × 10^-5', 'D. 1.23...</td>\n",
       "      <td>G</td>\n",
       "      <td>To calculate the equilibrium constant \\( K_p \\) for the dissociati...</td>\n",
       "      <td>B</td>\n",
       "      <td></td>\n",
       "    </tr>\n",
       "    <tr>\n",
       "      <th>3</th>\n",
       "      <td>With what force does the Earth attract the moon?</td>\n",
       "      <td>['A. 1.2 × 10^25 dynes', 'B. 5.0 × 10^25 dynes', 'C. 3.0 × 10^25 d...</td>\n",
       "      <td>D</td>\n",
       "      <td>The force with which the Earth attracts the Moon can be calculated...</td>\n",
       "      <td>D</td>\n",
       "      <td>✔️ [True]</td>\n",
       "    </tr>\n",
       "    <tr>\n",
       "      <th>4</th>\n",
       "      <td>A beam of electrons has speed 10^7 m/s. It is desired to use the m...</td>\n",
       "      <td>['A. 0.1 m', 'B. 1 mm', 'C. 1 μm', 'D. 0.01 m', 'E. 1 m', 'F. 10 m...</td>\n",
       "      <td>E</td>\n",
       "      <td>To find the radius of the circle in which the electron beam will t...</td>\n",
       "      <td>E</td>\n",
       "      <td>✔️ [True]</td>\n",
       "    </tr>\n",
       "    <tr>\n",
       "      <th>5</th>\n",
       "      <td>Calculate the roost probable distribution and the thermodynamicpro...</td>\n",
       "      <td>['A. most probable distribution is number 3; \\\\Omega = 250; entrop...</td>\n",
       "      <td>I</td>\n",
       "      <td>Not supplied for this particular example.</td>\n",
       "      <td>B</td>\n",
       "      <td></td>\n",
       "    </tr>\n",
       "    <tr>\n",
       "      <th>6</th>\n",
       "      <td>A cylinder with a movable piston contains a gas at pressure P = 1 ...</td>\n",
       "      <td>['A. 6 × 10^5 Pa', 'B. 9 × 10^5 Pa', 'C. 3 × 10^5 Pa', 'D. 5 × 10^...</td>\n",
       "      <td>H</td>\n",
       "      <td>According to Boyle's Law, for a given amount of gas at constant te...</td>\n",
       "      <td>H</td>\n",
       "      <td>✔️ [True]</td>\n",
       "    </tr>\n",
       "    <tr>\n",
       "      <th>7</th>\n",
       "      <td>If current real GDP is $5000 and full employment real GDP is at $4...</td>\n",
       "      <td>['A. A decrease in taxes and buying bonds in an open market operat...</td>\n",
       "      <td>F</td>\n",
       "      <td>The current real GDP of $5000 is above the full employment real GD...</td>\n",
       "      <td>G</td>\n",
       "      <td></td>\n",
       "    </tr>\n",
       "    <tr>\n",
       "      <th>8</th>\n",
       "      <td>Describe the function of the lateral-line system in fishes.</td>\n",
       "      <td>['A. The lateral-line system in fishes helps with the digestion of...</td>\n",
       "      <td>G</td>\n",
       "      <td>The lateral-line system in fishes is a specialized sensory system ...</td>\n",
       "      <td>G</td>\n",
       "      <td>✔️ [True]</td>\n",
       "    </tr>\n",
       "    <tr>\n",
       "      <th>9</th>\n",
       "      <td>In class, John's teacher tells him that she will give him the coin...</td>\n",
       "      <td>['A. sensory memory decay', 'B. retroactive interference', 'C. fai...</td>\n",
       "      <td>C</td>\n",
       "      <td>John's inability to identify the pictures on the coins and bills, ...</td>\n",
       "      <td>C</td>\n",
       "      <td>✔️ [True]</td>\n",
       "    </tr>\n",
       "    <tr>\n",
       "      <th>10</th>\n",
       "      <td>What is a deflationary gap?</td>\n",
       "      <td>['A. A situation where total demand is too small to absorb the tot...</td>\n",
       "      <td>A</td>\n",
       "      <td>A deflationary gap occurs when the total demand in an economy is i...</td>\n",
       "      <td>A</td>\n",
       "      <td>✔️ [True]</td>\n",
       "    </tr>\n",
       "    <tr>\n",
       "      <th>11</th>\n",
       "      <td>How many kcal are there in one gram of ethanol?\\n</td>\n",
       "      <td>['A. 37.6 kJ or 9.0 kcal per g', 'B. 15.6 kJ or 3.7 kcal per g', '...</td>\n",
       "      <td>H</td>\n",
       "      <td>Ethanol has a caloric value of approximately 7.1 kcal per gram. Th...</td>\n",
       "      <td>H</td>\n",
       "      <td>✔️ [True]</td>\n",
       "    </tr>\n",
       "    <tr>\n",
       "      <th>12</th>\n",
       "      <td>A man was visiting his friend at the friend's cabin. The man decid...</td>\n",
       "      <td>['A. No, because the man did not intend to burn down the cabin and...</td>\n",
       "      <td>A</td>\n",
       "      <td>The key issue in determining whether the man will be found guilty ...</td>\n",
       "      <td>A</td>\n",
       "      <td>✔️ [True]</td>\n",
       "    </tr>\n",
       "    <tr>\n",
       "      <th>13</th>\n",
       "      <td>A man hired a videographer to film his daughter's wedding. The wri...</td>\n",
       "      <td>['A. The contract is open to interpretation and does not explicitl...</td>\n",
       "      <td>C</td>\n",
       "      <td>The most persuasive argument for the videographer's contention is ...</td>\n",
       "      <td>E</td>\n",
       "      <td></td>\n",
       "    </tr>\n",
       "    <tr>\n",
       "      <th>14</th>\n",
       "      <td>In what state is the 1999 movie Magnolia' set?</td>\n",
       "      <td>[A. Nevada, B. Arizona, C. New York, D. Georgia, E. California, F....</td>\n",
       "      <td>E</td>\n",
       "      <td>The 1999 movie \"Magnolia\" is set in California. The film explores ...</td>\n",
       "      <td>E</td>\n",
       "      <td>✔️ [True]</td>\n",
       "    </tr>\n",
       "    <tr>\n",
       "      <th>15</th>\n",
       "      <td>In the phrase 'Y2K' what does 'K' stand for?</td>\n",
       "      <td>[A. kind, B. millennium, C. kingdom, D. key, E. kilo, F. kernel, G...</td>\n",
       "      <td>J</td>\n",
       "      <td>In the phrase 'Y2K', 'K' stands for 'kilo', which is a prefix mean...</td>\n",
       "      <td>J</td>\n",
       "      <td>✔️ [True]</td>\n",
       "    </tr>\n",
       "    <tr>\n",
       "      <th>16</th>\n",
       "      <td>A resident in an exclusive residential area is a marine biologist....</td>\n",
       "      <td>['A. not recover, because she suffered injury only because she had...</td>\n",
       "      <td>G</td>\n",
       "      <td>In this case, the neighbor is suing the resident based on strict l...</td>\n",
       "      <td>E</td>\n",
       "      <td></td>\n",
       "    </tr>\n",
       "    <tr>\n",
       "      <th>17</th>\n",
       "      <td>This question refers to the following information. \"I travelled th...</td>\n",
       "      <td>['A. Lorenzo de Medici', 'B. Sir Francis Drake', 'C. Hernán Cortés...</td>\n",
       "      <td>A</td>\n",
       "      <td>Ibn Battuta's travels were primarily focused on the Islamic world ...</td>\n",
       "      <td>A</td>\n",
       "      <td>✔️ [True]</td>\n",
       "    </tr>\n",
       "    <tr>\n",
       "      <th>18</th>\n",
       "      <td>Nussbaum claims that in cross-cultural communication, inhabitants ...</td>\n",
       "      <td>['A. in a utilitarian way.', 'B. in a Cartesian way.', 'C. in a ni...</td>\n",
       "      <td>J</td>\n",
       "      <td>Not supplied for this particular example.</td>\n",
       "      <td>H</td>\n",
       "      <td></td>\n",
       "    </tr>\n",
       "    <tr>\n",
       "      <th>19</th>\n",
       "      <td>For a macroscopic object of mass $1.0 \\mathrm{~g}$ moving with spe...</td>\n",
       "      <td>[A. 8$10^{26}$, B. 1$10^{27}$, C. 1$10^{26}$, D. 9$10^{26}$, E. 6$...</td>\n",
       "      <td>J</td>\n",
       "      <td>To find the quantum number \\( n \\) for a macroscopic object in a o...</td>\n",
       "      <td>C</td>\n",
       "      <td></td>\n",
       "    </tr>\n",
       "  </tbody>\n",
       "</table>\n",
       "</div>"
      ],
      "text/plain": [
       "                                                                 question  \\\n",
       "0   In 1935 roughly how many Americans were in favor of Social Securit...   \n",
       "1   A circular opening of radius 0.8mm in an opaque screen is illumina...   \n",
       "2   For the dissociation reaction cl_2(g) > 2Cl(g) at 1200 °K, calcula...   \n",
       "3                        With what force does the Earth attract the moon?   \n",
       "4   A beam of electrons has speed 10^7 m/s. It is desired to use the m...   \n",
       "5   Calculate the roost probable distribution and the thermodynamicpro...   \n",
       "6   A cylinder with a movable piston contains a gas at pressure P = 1 ...   \n",
       "7   If current real GDP is $5000 and full employment real GDP is at $4...   \n",
       "8             Describe the function of the lateral-line system in fishes.   \n",
       "9   In class, John's teacher tells him that she will give him the coin...   \n",
       "10                                            What is a deflationary gap?   \n",
       "11                      How many kcal are there in one gram of ethanol?\\n   \n",
       "12  A man was visiting his friend at the friend's cabin. The man decid...   \n",
       "13  A man hired a videographer to film his daughter's wedding. The wri...   \n",
       "14                         In what state is the 1999 movie Magnolia' set?   \n",
       "15                           In the phrase 'Y2K' what does 'K' stand for?   \n",
       "16  A resident in an exclusive residential area is a marine biologist....   \n",
       "17  This question refers to the following information. \"I travelled th...   \n",
       "18  Nussbaum claims that in cross-cultural communication, inhabitants ...   \n",
       "19  For a macroscopic object of mass $1.0 \\mathrm{~g}$ moving with spe...   \n",
       "\n",
       "                                                                  options  \\\n",
       "0   [A. 20%, B. 30%, C. 60%, D. 100%, E. 40%, F. 10%, G. 80%, H. 90%, ...   \n",
       "1   ['A. Wavelength of light for bright spot: 1.25 × 10^-6 m, Waveleng...   \n",
       "2   ['A. 1.10 × 10^-4', 'B. 6.89 × 10^-6', 'C. 8.97 × 10^-5', 'D. 1.23...   \n",
       "3   ['A. 1.2 × 10^25 dynes', 'B. 5.0 × 10^25 dynes', 'C. 3.0 × 10^25 d...   \n",
       "4   ['A. 0.1 m', 'B. 1 mm', 'C. 1 μm', 'D. 0.01 m', 'E. 1 m', 'F. 10 m...   \n",
       "5   ['A. most probable distribution is number 3; \\\\Omega = 250; entrop...   \n",
       "6   ['A. 6 × 10^5 Pa', 'B. 9 × 10^5 Pa', 'C. 3 × 10^5 Pa', 'D. 5 × 10^...   \n",
       "7   ['A. A decrease in taxes and buying bonds in an open market operat...   \n",
       "8   ['A. The lateral-line system in fishes helps with the digestion of...   \n",
       "9   ['A. sensory memory decay', 'B. retroactive interference', 'C. fai...   \n",
       "10  ['A. A situation where total demand is too small to absorb the tot...   \n",
       "11  ['A. 37.6 kJ or 9.0 kcal per g', 'B. 15.6 kJ or 3.7 kcal per g', '...   \n",
       "12  ['A. No, because the man did not intend to burn down the cabin and...   \n",
       "13  ['A. The contract is open to interpretation and does not explicitl...   \n",
       "14  [A. Nevada, B. Arizona, C. New York, D. Georgia, E. California, F....   \n",
       "15  [A. kind, B. millennium, C. kingdom, D. key, E. kilo, F. kernel, G...   \n",
       "16  ['A. not recover, because she suffered injury only because she had...   \n",
       "17  ['A. Lorenzo de Medici', 'B. Sir Francis Drake', 'C. Hernán Cortés...   \n",
       "18  ['A. in a utilitarian way.', 'B. in a Cartesian way.', 'C. in a ni...   \n",
       "19  [A. 8$10^{26}$, B. 1$10^{27}$, C. 1$10^{26}$, D. 9$10^{26}$, E. 6$...   \n",
       "\n",
       "   example_answer  \\\n",
       "0               H   \n",
       "1               B   \n",
       "2               G   \n",
       "3               D   \n",
       "4               E   \n",
       "5               I   \n",
       "6               H   \n",
       "7               F   \n",
       "8               G   \n",
       "9               C   \n",
       "10              A   \n",
       "11              H   \n",
       "12              A   \n",
       "13              C   \n",
       "14              E   \n",
       "15              J   \n",
       "16              G   \n",
       "17              A   \n",
       "18              J   \n",
       "19              J   \n",
       "\n",
       "                                                                reasoning  \\\n",
       "0                               Not supplied for this particular example.   \n",
       "1   To find the wavelength of light for both bright and dark spots, we...   \n",
       "2   To calculate the equilibrium constant \\( K_p \\) for the dissociati...   \n",
       "3   The force with which the Earth attracts the Moon can be calculated...   \n",
       "4   To find the radius of the circle in which the electron beam will t...   \n",
       "5                               Not supplied for this particular example.   \n",
       "6   According to Boyle's Law, for a given amount of gas at constant te...   \n",
       "7   The current real GDP of $5000 is above the full employment real GD...   \n",
       "8   The lateral-line system in fishes is a specialized sensory system ...   \n",
       "9   John's inability to identify the pictures on the coins and bills, ...   \n",
       "10  A deflationary gap occurs when the total demand in an economy is i...   \n",
       "11  Ethanol has a caloric value of approximately 7.1 kcal per gram. Th...   \n",
       "12  The key issue in determining whether the man will be found guilty ...   \n",
       "13  The most persuasive argument for the videographer's contention is ...   \n",
       "14  The 1999 movie \"Magnolia\" is set in California. The film explores ...   \n",
       "15  In the phrase 'Y2K', 'K' stands for 'kilo', which is a prefix mean...   \n",
       "16  In this case, the neighbor is suing the resident based on strict l...   \n",
       "17  Ibn Battuta's travels were primarily focused on the Islamic world ...   \n",
       "18                              Not supplied for this particular example.   \n",
       "19  To find the quantum number \\( n \\) for a macroscopic object in a o...   \n",
       "\n",
       "                                                              pred_answer  \\\n",
       "0                                                                       C   \n",
       "1   B. Wavelength of light for bright spot: 1.17 × 10^-6 m, Wavelength...   \n",
       "2                                                                       B   \n",
       "3                                                                       D   \n",
       "4                                                                       E   \n",
       "5                                                                       B   \n",
       "6                                                                       H   \n",
       "7                                                                       G   \n",
       "8                                                                       G   \n",
       "9                                                                       C   \n",
       "10                                                                      A   \n",
       "11                                                                      H   \n",
       "12                                                                      A   \n",
       "13                                                                      E   \n",
       "14                                                                      E   \n",
       "15                                                                      J   \n",
       "16                                                                      E   \n",
       "17                                                                      A   \n",
       "18                                                                      H   \n",
       "19                                                                      C   \n",
       "\n",
       "       metric  \n",
       "0              \n",
       "1              \n",
       "2              \n",
       "3   ✔️ [True]  \n",
       "4   ✔️ [True]  \n",
       "5              \n",
       "6   ✔️ [True]  \n",
       "7              \n",
       "8   ✔️ [True]  \n",
       "9   ✔️ [True]  \n",
       "10  ✔️ [True]  \n",
       "11  ✔️ [True]  \n",
       "12  ✔️ [True]  \n",
       "13             \n",
       "14  ✔️ [True]  \n",
       "15  ✔️ [True]  \n",
       "16             \n",
       "17  ✔️ [True]  \n",
       "18             \n",
       "19             "
      ]
     },
     "metadata": {},
     "output_type": "display_data"
    }
   ],
   "source": [
    "score, results, all_scores = evaluate(\n",
    "    optimized_program,\n",
    "    devset=testset[:subset_size],\n",
    ")"
   ]
  },
  {
   "cell_type": "markdown",
   "metadata": {},
   "source": [
    "## Medium Optimization"
   ]
  },
  {
   "cell_type": "code",
   "execution_count": null,
   "metadata": {},
   "outputs": [],
   "source": [
    "subset_size = 500\n",
    "optimizer = dspy.MIPROv2(\n",
    "    metric=benchmark.metric,\n",
    "    auto=\"medium\",\n",
    "    num_threads=NUM_THREADS,\n",
    "    task_model=TASK_MODEL,\n",
    "    prompt_model=PROMPT_MODEL,\n",
    "    max_labeled_demos=FEW_SHOTS,\n",
    ")\n",
    "\n",
    "optimized_program = optimizer.compile(\n",
    "    program,\n",
    "    trainset=trainset[:subset_size],\n",
    "    valset=valset[:subset_size],\n",
    "    requires_permission_to_run=False,\n",
    ")"
   ]
  },
  {
   "cell_type": "code",
   "execution_count": null,
   "metadata": {},
   "outputs": [],
   "source": [
    "print(\"BEST PROMPT:\\n\", optimized_program.predict.signature.instructions)"
   ]
  },
  {
   "cell_type": "code",
   "execution_count": null,
   "metadata": {},
   "outputs": [],
   "source": [
    "score, results, all_scores = evaluate(\n",
    "    optimized_program,\n",
    "    devset=testset[:subset_size],\n",
    "    display_table=False,\n",
    ")"
   ]
  },
  {
   "cell_type": "markdown",
   "metadata": {},
   "source": [
    "## Heavy Optimization"
   ]
  },
  {
   "cell_type": "code",
   "execution_count": null,
   "metadata": {},
   "outputs": [],
   "source": [
    "optimizer = dspy.MIPROv2(\n",
    "    metric=benchmark.metric,\n",
    "    auto=\"heavy\",\n",
    "    num_threads=NUM_THREADS,\n",
    "    task_model=TASK_MODEL,\n",
    "    prompt_model=PROMPT_MODEL,\n",
    "    max_labeled_demos=FEW_SHOTS,\n",
    ")\n",
    "\n",
    "optimized_program = optimizer.compile(\n",
    "    program,\n",
    "    trainset=trainset,\n",
    "    valset=valset,\n",
    ")"
   ]
  },
  {
   "cell_type": "code",
   "execution_count": null,
   "metadata": {},
   "outputs": [],
   "source": [
    "print(\"BEST PROMPT:\\n\", optimized_program.predict.signature.instructions)"
   ]
  },
  {
   "cell_type": "code",
   "execution_count": null,
   "metadata": {},
   "outputs": [],
   "source": [
    "score, results, all_scores = evaluate(\n",
    "    optimized_program,\n",
    "    devset=testset,\n",
    "    display_table=False,\n",
    ")"
   ]
  }
 ],
 "metadata": {
  "kernelspec": {
   "display_name": ".venv",
   "language": "python",
   "name": "python3"
  },
  "language_info": {
   "codemirror_mode": {
    "name": "ipython",
    "version": 3
   },
   "file_extension": ".py",
   "mimetype": "text/x-python",
   "name": "python",
   "nbconvert_exporter": "python",
   "pygments_lexer": "ipython3",
   "version": "3.10.14"
  }
 },
 "nbformat": 4,
 "nbformat_minor": 2
}
