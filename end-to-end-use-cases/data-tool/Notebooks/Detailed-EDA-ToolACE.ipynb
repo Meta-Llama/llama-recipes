{
 "cells": [
  {
   "cell_type": "code",
   "execution_count": 1,
   "id": "0194652a-61b8-40bd-9455-5ace65bf754e",
   "metadata": {},
   "outputs": [],
   "source": [
    "from datasets import load_dataset, Dataset\n",
    "import pandas as pd\n",
    "import numpy as np\n",
    "from collections import Counter, defaultdict\n",
    "import json\n",
    "import matplotlib.pyplot as plt\n",
    "import seaborn as sns\n",
    "import re\n",
    "from tqdm import tqdm\n",
    "import networkx as nx\n",
    "from typing import Dict, List\n",
    "import uuid"
   ]
  },
  {
   "cell_type": "code",
   "execution_count": 2,
   "id": "30bfb6d4-33c8-4a70-9d6c-6ce90d4d1fe9",
   "metadata": {},
   "outputs": [],
   "source": [
    "d = load_dataset(\"Team-ACE/ToolACE\")"
   ]
  },
  {
   "cell_type": "code",
   "execution_count": 3,
   "id": "1d82c5b7-0501-4293-96ed-e58f8b474b10",
   "metadata": {},
   "outputs": [
    {
     "data": {
      "text/plain": [
       "Dataset({\n",
       "    features: ['system', 'conversations'],\n",
       "    num_rows: 11300\n",
       "})"
      ]
     },
     "execution_count": 3,
     "metadata": {},
     "output_type": "execute_result"
    }
   ],
   "source": [
    "d['train']"
   ]
  },
  {
   "cell_type": "code",
   "execution_count": 6,
   "id": "b5da22ba-7019-403d-853f-5cd978309ab3",
   "metadata": {},
   "outputs": [
    {
     "data": {
      "text/plain": [
       "{'system': ['You are an expert in composing functions. You are given a question and a set of possible functions. \\nBased on the question, you will need to make one or more function/tool calls to achieve the purpose. \\nIf none of the function can be used, point it out. If the given question lacks the parameters required by the function,\\nalso point it out. You should only return the function call in tools call sections.\\nHere is a list of functions in JSON format that you can invoke:\\n[{\"name\": \"newAddress\", \"description\": \"Generates a new Ethereum address that can be used to send or receive funds. Do not lose the password! We can\\'t restore access to an address if you lose it.\", \"parameters\": {\"type\": \"dict\", \"properties\": {\"password\": {\"description\": \"The password for the new Ethereum address\", \"type\": \"string\"}}, \"required\": [\"password\"]}, \"required\": null}, {\"name\": \"Market Trends API\", \"description\": \"Get the latest market trends and relevant news for a specified country and language.\", \"parameters\": {\"type\": \"dict\", \"properties\": {\"trend_type\": {\"description\": \"Trend type.\", \"type\": \"string\", \"enum\": [\"MARKET_INDEXES\", \"MOST_ACTIVE\", \"GAINERS\", \"LOSERS\", \"CRYPTO\", \"CURRENCIES\", \"CLIMATE_LEADERS\"]}, \"country\": {\"description\": \"The country for which to get trends, specified as a 2-letter country code - see ISO 3166.\", \"type\": \"string\", \"default\": \"us\"}, \"language\": {\"description\": \"The language to use for the results, specified as a 2-letter language code - see ISO 639-1.\", \"type\": \"string\", \"default\": \"en\"}}, \"required\": [\"trend_type\"]}, \"required\": null}, {\"name\": \"Get Futures Prices\", \"description\": \"Retrieve a list of current futures prices for various financial instruments.\", \"parameters\": {\"type\": \"dict\", \"properties\": {\"instrument_type\": {\"description\": \"Type of financial instrument (e.g., commodity, currency, index)\", \"type\": \"string\"}, \"exchange\": {\"description\": \"Name of the exchange (e.g., CME, ICE, NYMEX)\", \"type\": \"string\"}, \"start_string\": {\"description\": \"Start string for the price data (YYYY-MM-DD)\", \"type\": \"string\"}, \"end_string\": {\"description\": \"End string for the price data (YYYY-MM-DD)\", \"type\": \"string\"}}, \"required\": [\"instrument_type\", \"exchange\"]}, \"required\": null}, {\"name\": \"SEC Filings\", \"description\": \"Returns a list of SEC Filings for the requested company, including filing types, strings, and documents.\", \"parameters\": {\"type\": \"dict\", \"properties\": {\"identifier\": {\"description\": \"Publicly traded company\\'s stock symbol or Central Index Key (CIK)\", \"type\": \"string\", \"default\": \"aapl\"}}, \"required\": [\"identifier\"]}, \"required\": null}, {\"name\": \"United States Away from Home Mobility API\", \"description\": \"Retrieve daily data on the percentage change in time spent away from home in the United States, providing insights into the economic impact of the COVID-19 pandemic.\", \"parameters\": {\"type\": \"dict\", \"properties\": {\"string\": {\"description\": \"The string for which to retrieve data (format: YYYY-MM-DD)\", \"type\": \"string\"}, \"state\": {\"description\": \"The state for which to retrieve data (optional, default: all states)\", \"type\": \"string\"}}, \"required\": [\"string\"]}, \"required\": null}, {\"name\": \"Calculate Sales Tax\", \"description\": \"Retrieves the sales tax rate applicable to a specific address. This API accepts address inputs to deliver up-to-string, relevant local sales tax rates instantly.\", \"parameters\": {\"type\": \"dict\", \"properties\": {\"country\": {\"description\": \"Set to one of the country codes listed in Supported Countries.\", \"type\": \"string\", \"default\": \"US\"}, \"city\": {\"description\": \"City name\", \"type\": \"string\", \"default\": \"Meridian\"}, \"zip\": {\"description\": \"Zip code\", \"type\": \"string\", \"default\": \"83646\"}, \"street\": {\"description\": \"Street address\", \"type\": \"string\", \"default\": \"936 Storey Ave\"}}, \"required\": [\"country\"]}, \"required\": null}]. \\nShould you decide to return the function call(s). \\nPut it in the format of [func1(params_name=params_value, params_name2=params_value2...), func2(params)]\\n\\nNO other text MUST be included. \\n',\n",
       "  'You are an expert in composing functions. You are given a question and a set of possible functions. \\nBased on the question, you will need to make one or more function/tool calls to achieve the purpose. \\nIf none of the function can be used, point it out. If the given question lacks the parameters required by the function,\\nalso point it out. You should only return the function call in tools call sections.\\nHere is a list of functions in JSON format that you can invoke:\\n[{\"name\": \"Quotes by Keywords\", \"description\": \"Returns a list of quotes containing the specified keyword.\", \"parameters\": {\"type\": \"dict\", \"properties\": {\"word\": {\"description\": \"The keyword to search for in quotes.\", \"type\": \"string\"}}, \"required\": [\"word\"]}, \"required\": null}, {\"name\": \"Get Zip Code Information\", \"description\": \"Retrieve information about a specific zip code in the United States.\", \"parameters\": {\"type\": \"dict\", \"properties\": {\"country\": {\"description\": \"The country code (default: \\'us\\')\", \"type\": \"string\"}, \"postal_code\": {\"description\": \"The zip code (default: \\'90210\\')\", \"type\": \"string\"}}, \"required\": [\"country\", \"postal_code\"]}, \"required\": null}, {\"name\": \"Weekly Hot 100 Chart\", \"description\": \"Retrieve the Billboard Hot 100 chart for a specific string.\", \"parameters\": {\"type\": \"dict\", \"properties\": {\"string\": {\"description\": \"The string for which to retrieve the chart (YYYY-MM-DD)\", \"type\": \"string\"}}, \"required\": [\"string\"]}, \"required\": null}, {\"name\": \"Get Cars Information\", \"description\": \"This API returns a list of cars information based on the provided parameters.\", \"parameters\": {\"type\": \"dict\", \"properties\": {\"model\": {\"description\": \"The model of the vehicle.\", \"type\": \"string\"}, \"make\": {\"description\": \"The manufacturer of the vehicle.\", \"type\": \"string\"}, \"year\": {\"description\": \"The model year of the vehicle.\", \"type\": \"string\"}, \"fuel_type\": {\"description\": \"The type of fuel used.\", \"type\": \"string\"}, \"drive\": {\"description\": \"The drive transmission type.\", \"type\": \"string\"}, \"transmission\": {\"description\": \"The type of transmission.\", \"type\": \"string\"}, \"cylinders\": {\"description\": \"The number of cylinders.\", \"type\": \"float\"}, \"min_city_mpg\": {\"description\": \"Minimum city fuel efficiency in miles per gallon.\", \"type\": \"float\"}, \"max_city_mpg\": {\"description\": \"Maximum city fuel efficiency in miles per gallon.\", \"type\": \"float\"}, \"min_hwy_mpg\": {\"description\": \"Minimum highway fuel efficiency in miles per gallon.\", \"type\": \"float\"}, \"max_hwy_mpg\": {\"description\": \"Maximum highway fuel efficiency in miles per gallon.\", \"type\": \"float\"}, \"min_comb_mpg\": {\"description\": \"Minimum combination (city + highway) fuel efficiency in miles per gallon.\", \"type\": \"float\"}, \"max_comb_mpg\": {\"description\": \"Maximum combination (city + highway) fuel efficiency in miles per gallon.\", \"type\": \"float\"}, \"limit\": {\"description\": \"How many results to return.\", \"type\": \"string\"}}, \"required\": []}, \"required\": null}, {\"name\": \"Lorem Ipsum Generator\", \"description\": \"Generate a specified number of words of Lorem Ipsum text\", \"parameters\": {\"type\": \"dict\", \"properties\": {\"amount\": {\"description\": \"The number of words to generate\", \"type\": \"int\"}}, \"required\": [\"amount\"]}, \"required\": null}, {\"name\": \"Crawl\", \"description\": \"Perform a Google search and return the HTML source of the results page.\", \"parameters\": {\"type\": \"dict\", \"properties\": {\"query\": {\"description\": \"The search query to perform.\", \"type\": \"string\"}}, \"required\": [\"query\"]}, \"required\": null}]. \\nShould you decide to return the function call(s). \\nPut it in the format of [func1(params_name=params_value, params_name2=params_value2...), func2(params)]\\n\\nNO other text MUST be included. \\n'],\n",
       " 'conversations': [[{'from': 'user',\n",
       "    'value': \"I'm considering investing and I'd like to know what's happening in the market right now. Could you get me the top market trends in the US?\"},\n",
       "   {'from': 'assistant',\n",
       "    'value': '[Market Trends API(trend_type=\"MARKET_INDEXES\", country=\"us\")]'},\n",
       "   {'from': 'tool',\n",
       "    'value': '[{\"name\": \"Market Trends API\", \"results\": {\"trends\": [{\"name\": \"S&P 500\", \"description\": \"Standard & Poor\\'s 500 Index is a market-capitalization-weighted index of the 500 largest U.S. publicly traded companies.\", \"data\": {\"current_value\": \"4172.80\", \"percentage_change\": \"+0.68%\"}}, {\"name\": \"DOW J\", \"description\": \"Dow Jones Industrial Average is a price-weighted average of 30 blue-chip stocks that are generally the leaders in their industry.\", \"data\": {\"current_value\": \"34479.60\", \"percentage_change\": \"+0.47%\"}}, {\"name\": \"NASDAQ\", \"description\": \"The NASDAQ Composite is a broad-based capitalization-weighted index of stocks in all three NASDAQ tiers: Global Select, Global Market and Capital Market.\", \"data\": {\"current_value\": \"13691.30\", \"percentage_change\": \"+0.90%\"}}]}}]'},\n",
       "   {'from': 'assistant',\n",
       "    'value': \"Here are the top Market Trends in the US right now:\\n\\n1. **S&P 500**: The Standard & Poor's 500 Index is a market-capitalization-weighted index of the 500 largest U.S. publicly traded companies. Its current value is 4172.80 with a percentage change of +0.68%.\\n\\n2. **DOW J**: The Dow Jones Industrial Average is a price-weighted average of 30 blue-chip stocks that are generally the leaders in their industry. Its current value is 34479.60 with a percentage change of +0.47%.\\n\\n3. **NASDAQ**: The NASDAQ Composite is a broad-based capitalization-weighted index of stocks in all three NASDAQ tiers: Global Select, Global Market and Capital Market. Its current value is 13691.30 with a percentage change of +0.90%.\\n\\nThis information can help you make informed decisions about your investment plans.\"},\n",
       "   {'from': 'user',\n",
       "    'value': 'Could you explain what SEC filings are and how they might be useful for an investor like me?'},\n",
       "   {'from': 'assistant',\n",
       "    'value': \"Sure, SEC filings refer to official documents that are submitted by publicly traded companies to the U.S. Securities and Exchange Commission (SEC). These documents provide valuable information about a company's financial performance, its management team, ownership, key business operations, market competition, and future prospects. They are typically comprehensive and contain detailed information that a company is legally required to disclose to the public.\\n\\nInvestors like you can use these filings to better understand a company's true financial health and operations. Information you might glean from SEC filings includes:\\n\\n1. **Financial Statements**: Balance sheets, income statements, and cash flow statements can help you analyze the financial health and profitability of a company.\\n\\n2. **Management Discussion and Analysis (MD&A)**: This section offers management's perspective on the company's performance, including explanations of financial results, significant changes, market risk exposures, and future operations and strategy.\\n\\n3. **Risk Factors**: In the filing, companies are required to disclose potential risks of investing in their company. Insight into the risks the company is facing can help you make a more informed decision about investing.\\n\\n4. **Major Shareholders**: Companies must disclose the list of major shareholders. High ownership of shares by insiders could indicate confidence in the business, while large institutional ownership could suggest stability.\\n\\n5. **Director and Executive Compensation**: Information on executive remuneration packages can indicate how well the company’s interests are aligned with its executive team.\\n\\nSEC filings are a fundamental part of investment research and due diligence. They can provide deep insights into a company that may not be immediately obvious from simply looking at its earnings or share price. It's essential for investors to understand how to read and interpret these filings to make informed investment decisions.\"},\n",
       "   {'from': 'user',\n",
       "    'value': 'So, a couple of years ago, I invested in a tech startup without doing any proper research. It seemed like a hot trend at the time, but the company went belly up within a year. I ended up losing a good chunk of money. What are your thoughts on that?'},\n",
       "   {'from': 'assistant',\n",
       "    'value': \"As an assistant, I'm here to provide advice and guide you in your financial decisions. Here are my thoughts:\\n\\nInvesting in startups or any company without conducting proper research carries high risk. Although some startups have very high growth potentials and can provide excellent returns, many also fail within a few years of operation. This is especially the case in the tech industry where competition is stiff and technology changes rapidly.\\n\\nThat being said, your past experience with the tech startup is an important lesson in the necessity of conducting thorough due diligence before investing. Here are some steps you might take before future investments:\\n\\n1. **Understand the Business**: Make sure you understand the company's business model, its products or services, the market it operates in and its competition.\\n\\n2. **Financial Analysis**: Review financial statements, revenue, profitability, growth rates, debt levels, and cash flow. \\n\\n3. **Management Review**: It's important to assess the quality of the management team and their plans for the company.\\n\\n4. **Use of Tools**: Utilize tools like the SEC Filings tool to retrieve important documents to get detailed information about a company's operations, management and financials.\\n\\n5. **Risk vs Reward**: Analyze the investment's potential returns in light of the potential risk. High-risk investments should have the potential for higher returns.\\n\\nRemember, all investments carry a degree of risk. As such, it can be beneficial to diversify investments to spread risk and not put all of your money into one company or sector. It may also be helpful to seek advice from financial advisors or use trusted financial services to ensure informed decisions.\\n\\nGoing forward, employing these strategies could help reduce risk and maximize potential returns on your investments.\"},\n",
       "   {'from': 'user',\n",
       "    'value': \"Could you provide me with the SEC filings for Apple? Also, I’m curious about how COVID-19 has affected people's mobility away from home in the US.\"},\n",
       "   {'from': 'assistant',\n",
       "    'value': '[SEC Filings(identifier=\"AAPL\"), United States Away from Home Mobility API(string=\"2025-05-17\")]'}],\n",
       "  [{'from': 'user',\n",
       "    'value': 'Could you please find me some quotes about \"inspiration\"?'},\n",
       "   {'from': 'assistant', 'value': '[Quotes by Keywords(word=\"inspiration\")]'},\n",
       "   {'from': 'tool',\n",
       "    'value': '[{\"name\": \"Quotes by Keywords\", \"results\": {\"quotes\": [{\"text\": \"The only way to achieve the impossible is to believe it is possible.\", \"author\": \"Charles Kingsleigh\"}, {\"text\": \"Don\\'t watch the clock; do what it does. Keep going.\", \"author\": \"Sam Levenson\"}, {\"text\": \"Success is not the key to happiness. Happiness is the key to success. If you love what you are doing, you will be successful.\", \"author\": \"Albert Schweitzer\"}]}}]'},\n",
       "   {'from': 'assistant',\n",
       "    'value': 'Here are some inspiration quotes for you:\\n\\n1. \"The only way to achieve the impossible is to believe it is possible.\" - Charles Kingsleigh\\n2. \"Don\\'t watch the clock; do what it does. Keep going.\" - Sam Levenson\\n3. \"Success is not the key to happiness. Happiness is the key to success. If you love what you are doing, you will be successful.\" - Albert Schweitzer\\n\\nFeel free to reflect on these or let me know if you need more quotes or information on another topic!'},\n",
       "   {'from': 'user',\n",
       "    'value': 'Could you summarize the meaning of the quote by Albert Schweitzer?'},\n",
       "   {'from': 'assistant',\n",
       "    'value': 'The quote by Albert Schweitzer, \"Success is not the key to happiness. Happiness is the key to success. If you love what you are doing, you will be successful,\" emphasizes that true success in life comes from finding joy and fulfillment in what you do. Rather than viewing success as a source of happiness, Schweitzer suggests that happiness itself should be the foundation for achieving success. Essentially, when you engage in activities that make you happy and passionate, you\\'re more likely to excel and achieve success in those ventures.'},\n",
       "   {'from': 'user',\n",
       "    'value': \"Can you dig up some juicy details about the zip code 10001? I'm doing a mail-order flamingo business plan, don't ask why.\"},\n",
       "   {'from': 'assistant',\n",
       "    'value': '[Get Zip Code Information(country=\"us\", postal_code=\"10001\")]'},\n",
       "   {'from': 'tool',\n",
       "    'value': '[{\"name\": \"Get Zip Code Information\", \"results\": {\"information\": \"Zip code information for 10001, USA\", \"latitude\": 40.748817, \"longitude\": -73.985428, \"city\": \"New York\", \"state\": \"NY\", \"county\": \"New York\"}}]'},\n",
       "   {'from': 'assistant',\n",
       "    'value': \"Here's the detailed information about the zip code 10001, which will be helpful for your mail-order flamingo business plan:\\n\\n**Zip Code Information for 10001, USA:**\\n- **City:** New York\\n- **State:** NY (New York)\\n- **County:** New York\\n- **Latitude:** 40.748817\\n- **Longitude:** -73.985428\\n\\nThis data provides a clear overview of where the zip code is located and its associated geographic details. If you need more assistance or information on any other aspect of your business plan, feel free to ask!\"}]]}"
      ]
     },
     "execution_count": 6,
     "metadata": {},
     "output_type": "execute_result"
    }
   ],
   "source": [
    "d['train'][0:2]"
   ]
  },
  {
   "cell_type": "code",
   "execution_count": 12,
   "id": "ce0b21d3-9e73-41a4-b181-bda342395243",
   "metadata": {},
   "outputs": [
    {
     "data": {
      "text/plain": [
       "dict_keys(['system', 'conversations'])"
      ]
     },
     "execution_count": 12,
     "metadata": {},
     "output_type": "execute_result"
    }
   ],
   "source": [
    "d['train'][123].keys()"
   ]
  },
  {
   "cell_type": "code",
   "execution_count": 13,
   "id": "c88547cc-96e5-4054-9121-d5dcd8189fbe",
   "metadata": {},
   "outputs": [
    {
     "data": {
      "text/plain": [
       "{'system': 'You are an expert in composing functions. You are given a question and a set of possible functions. \\nBased on the question, you will need to make one or more function/tool calls to achieve the purpose. \\nIf none of the function can be used, point it out. If the given question lacks the parameters required by the function,\\nalso point it out. You should only return the function call in tools call sections.\\nHere is a list of functions in JSON format that you can invoke:\\n[{\"name\": \"newAddress\", \"description\": \"Generates a new Ethereum address that can be used to send or receive funds. Do not lose the password! We can\\'t restore access to an address if you lose it.\", \"parameters\": {\"type\": \"dict\", \"properties\": {\"password\": {\"description\": \"The password for the new Ethereum address\", \"type\": \"string\"}}, \"required\": [\"password\"]}, \"required\": null}, {\"name\": \"Market Trends API\", \"description\": \"Get the latest market trends and relevant news for a specified country and language.\", \"parameters\": {\"type\": \"dict\", \"properties\": {\"trend_type\": {\"description\": \"Trend type.\", \"type\": \"string\", \"enum\": [\"MARKET_INDEXES\", \"MOST_ACTIVE\", \"GAINERS\", \"LOSERS\", \"CRYPTO\", \"CURRENCIES\", \"CLIMATE_LEADERS\"]}, \"country\": {\"description\": \"The country for which to get trends, specified as a 2-letter country code - see ISO 3166.\", \"type\": \"string\", \"default\": \"us\"}, \"language\": {\"description\": \"The language to use for the results, specified as a 2-letter language code - see ISO 639-1.\", \"type\": \"string\", \"default\": \"en\"}}, \"required\": [\"trend_type\"]}, \"required\": null}, {\"name\": \"Get Futures Prices\", \"description\": \"Retrieve a list of current futures prices for various financial instruments.\", \"parameters\": {\"type\": \"dict\", \"properties\": {\"instrument_type\": {\"description\": \"Type of financial instrument (e.g., commodity, currency, index)\", \"type\": \"string\"}, \"exchange\": {\"description\": \"Name of the exchange (e.g., CME, ICE, NYMEX)\", \"type\": \"string\"}, \"start_string\": {\"description\": \"Start string for the price data (YYYY-MM-DD)\", \"type\": \"string\"}, \"end_string\": {\"description\": \"End string for the price data (YYYY-MM-DD)\", \"type\": \"string\"}}, \"required\": [\"instrument_type\", \"exchange\"]}, \"required\": null}, {\"name\": \"SEC Filings\", \"description\": \"Returns a list of SEC Filings for the requested company, including filing types, strings, and documents.\", \"parameters\": {\"type\": \"dict\", \"properties\": {\"identifier\": {\"description\": \"Publicly traded company\\'s stock symbol or Central Index Key (CIK)\", \"type\": \"string\", \"default\": \"aapl\"}}, \"required\": [\"identifier\"]}, \"required\": null}, {\"name\": \"United States Away from Home Mobility API\", \"description\": \"Retrieve daily data on the percentage change in time spent away from home in the United States, providing insights into the economic impact of the COVID-19 pandemic.\", \"parameters\": {\"type\": \"dict\", \"properties\": {\"string\": {\"description\": \"The string for which to retrieve data (format: YYYY-MM-DD)\", \"type\": \"string\"}, \"state\": {\"description\": \"The state for which to retrieve data (optional, default: all states)\", \"type\": \"string\"}}, \"required\": [\"string\"]}, \"required\": null}, {\"name\": \"Calculate Sales Tax\", \"description\": \"Retrieves the sales tax rate applicable to a specific address. This API accepts address inputs to deliver up-to-string, relevant local sales tax rates instantly.\", \"parameters\": {\"type\": \"dict\", \"properties\": {\"country\": {\"description\": \"Set to one of the country codes listed in Supported Countries.\", \"type\": \"string\", \"default\": \"US\"}, \"city\": {\"description\": \"City name\", \"type\": \"string\", \"default\": \"Meridian\"}, \"zip\": {\"description\": \"Zip code\", \"type\": \"string\", \"default\": \"83646\"}, \"street\": {\"description\": \"Street address\", \"type\": \"string\", \"default\": \"936 Storey Ave\"}}, \"required\": [\"country\"]}, \"required\": null}]. \\nShould you decide to return the function call(s). \\nPut it in the format of [func1(params_name=params_value, params_name2=params_value2...), func2(params)]\\n\\nNO other text MUST be included. \\n',\n",
       " 'conversations': [{'from': 'user',\n",
       "   'value': \"I'm considering investing and I'd like to know what's happening in the market right now. Could you get me the top market trends in the US?\"},\n",
       "  {'from': 'assistant',\n",
       "   'value': '[Market Trends API(trend_type=\"MARKET_INDEXES\", country=\"us\")]'},\n",
       "  {'from': 'tool',\n",
       "   'value': '[{\"name\": \"Market Trends API\", \"results\": {\"trends\": [{\"name\": \"S&P 500\", \"description\": \"Standard & Poor\\'s 500 Index is a market-capitalization-weighted index of the 500 largest U.S. publicly traded companies.\", \"data\": {\"current_value\": \"4172.80\", \"percentage_change\": \"+0.68%\"}}, {\"name\": \"DOW J\", \"description\": \"Dow Jones Industrial Average is a price-weighted average of 30 blue-chip stocks that are generally the leaders in their industry.\", \"data\": {\"current_value\": \"34479.60\", \"percentage_change\": \"+0.47%\"}}, {\"name\": \"NASDAQ\", \"description\": \"The NASDAQ Composite is a broad-based capitalization-weighted index of stocks in all three NASDAQ tiers: Global Select, Global Market and Capital Market.\", \"data\": {\"current_value\": \"13691.30\", \"percentage_change\": \"+0.90%\"}}]}}]'},\n",
       "  {'from': 'assistant',\n",
       "   'value': \"Here are the top Market Trends in the US right now:\\n\\n1. **S&P 500**: The Standard & Poor's 500 Index is a market-capitalization-weighted index of the 500 largest U.S. publicly traded companies. Its current value is 4172.80 with a percentage change of +0.68%.\\n\\n2. **DOW J**: The Dow Jones Industrial Average is a price-weighted average of 30 blue-chip stocks that are generally the leaders in their industry. Its current value is 34479.60 with a percentage change of +0.47%.\\n\\n3. **NASDAQ**: The NASDAQ Composite is a broad-based capitalization-weighted index of stocks in all three NASDAQ tiers: Global Select, Global Market and Capital Market. Its current value is 13691.30 with a percentage change of +0.90%.\\n\\nThis information can help you make informed decisions about your investment plans.\"},\n",
       "  {'from': 'user',\n",
       "   'value': 'Could you explain what SEC filings are and how they might be useful for an investor like me?'},\n",
       "  {'from': 'assistant',\n",
       "   'value': \"Sure, SEC filings refer to official documents that are submitted by publicly traded companies to the U.S. Securities and Exchange Commission (SEC). These documents provide valuable information about a company's financial performance, its management team, ownership, key business operations, market competition, and future prospects. They are typically comprehensive and contain detailed information that a company is legally required to disclose to the public.\\n\\nInvestors like you can use these filings to better understand a company's true financial health and operations. Information you might glean from SEC filings includes:\\n\\n1. **Financial Statements**: Balance sheets, income statements, and cash flow statements can help you analyze the financial health and profitability of a company.\\n\\n2. **Management Discussion and Analysis (MD&A)**: This section offers management's perspective on the company's performance, including explanations of financial results, significant changes, market risk exposures, and future operations and strategy.\\n\\n3. **Risk Factors**: In the filing, companies are required to disclose potential risks of investing in their company. Insight into the risks the company is facing can help you make a more informed decision about investing.\\n\\n4. **Major Shareholders**: Companies must disclose the list of major shareholders. High ownership of shares by insiders could indicate confidence in the business, while large institutional ownership could suggest stability.\\n\\n5. **Director and Executive Compensation**: Information on executive remuneration packages can indicate how well the company’s interests are aligned with its executive team.\\n\\nSEC filings are a fundamental part of investment research and due diligence. They can provide deep insights into a company that may not be immediately obvious from simply looking at its earnings or share price. It's essential for investors to understand how to read and interpret these filings to make informed investment decisions.\"},\n",
       "  {'from': 'user',\n",
       "   'value': 'So, a couple of years ago, I invested in a tech startup without doing any proper research. It seemed like a hot trend at the time, but the company went belly up within a year. I ended up losing a good chunk of money. What are your thoughts on that?'},\n",
       "  {'from': 'assistant',\n",
       "   'value': \"As an assistant, I'm here to provide advice and guide you in your financial decisions. Here are my thoughts:\\n\\nInvesting in startups or any company without conducting proper research carries high risk. Although some startups have very high growth potentials and can provide excellent returns, many also fail within a few years of operation. This is especially the case in the tech industry where competition is stiff and technology changes rapidly.\\n\\nThat being said, your past experience with the tech startup is an important lesson in the necessity of conducting thorough due diligence before investing. Here are some steps you might take before future investments:\\n\\n1. **Understand the Business**: Make sure you understand the company's business model, its products or services, the market it operates in and its competition.\\n\\n2. **Financial Analysis**: Review financial statements, revenue, profitability, growth rates, debt levels, and cash flow. \\n\\n3. **Management Review**: It's important to assess the quality of the management team and their plans for the company.\\n\\n4. **Use of Tools**: Utilize tools like the SEC Filings tool to retrieve important documents to get detailed information about a company's operations, management and financials.\\n\\n5. **Risk vs Reward**: Analyze the investment's potential returns in light of the potential risk. High-risk investments should have the potential for higher returns.\\n\\nRemember, all investments carry a degree of risk. As such, it can be beneficial to diversify investments to spread risk and not put all of your money into one company or sector. It may also be helpful to seek advice from financial advisors or use trusted financial services to ensure informed decisions.\\n\\nGoing forward, employing these strategies could help reduce risk and maximize potential returns on your investments.\"},\n",
       "  {'from': 'user',\n",
       "   'value': \"Could you provide me with the SEC filings for Apple? Also, I’m curious about how COVID-19 has affected people's mobility away from home in the US.\"},\n",
       "  {'from': 'assistant',\n",
       "   'value': '[SEC Filings(identifier=\"AAPL\"), United States Away from Home Mobility API(string=\"2025-05-17\")]'}]}"
      ]
     },
     "execution_count": 13,
     "metadata": {},
     "output_type": "execute_result"
    }
   ],
   "source": [
    "d['train'][0]"
   ]
  },
  {
   "cell_type": "code",
   "execution_count": 14,
   "id": "bc648685-ebdd-40b1-baa8-aa7706e018ad",
   "metadata": {},
   "outputs": [],
   "source": [
    "def generate_unique_id():\n",
    "    \"\"\"Generate a unique ID using UUID4\"\"\"\n",
    "    return str(uuid.uuid4())"
   ]
  },
  {
   "cell_type": "code",
   "execution_count": 15,
   "id": "deb75bc2-11aa-464f-9c30-e34cd96543ac",
   "metadata": {},
   "outputs": [],
   "source": [
    "def transform_dataset():\n",
    "    # Load the dataset\n",
    "    dataset = load_dataset(\"Team-ACE/ToolACE\")\n",
    "    \n",
    "    transformed_dataset = {}\n",
    "    for split in dataset.keys():\n",
    "        # First create list of all examples with their new structure\n",
    "        new_examples: Dict[str, Any] = {\n",
    "            'id': [],\n",
    "            'conversations': []\n",
    "        }\n",
    "        \n",
    "        # Transform each example\n",
    "        for idx, example in enumerate(dataset[split]):\n",
    "            # Generate unique ID\n",
    "            unique_id = str(uuid.uuid4())\n",
    "            \n",
    "            # Create new conversations list with system message first\n",
    "            new_conversations = [\n",
    "                {\n",
    "                    'from': 'system',\n",
    "                    'value': example['system']\n",
    "                }\n",
    "            ] + example['conversations']\n",
    "            \n",
    "            # Add to our lists\n",
    "            new_examples['id'].append(unique_id)\n",
    "            new_examples['conversations'].append(new_conversations)\n",
    "        \n",
    "        # Create new dataset with only id and conversations columns\n",
    "        transformed_dataset[split] = Dataset.from_dict(new_examples)\n",
    "    \n",
    "    # Preview first example\n",
    "    print(\"\\nFirst example in transformed dataset:\")\n",
    "    print(json.dumps({\n",
    "        'id': transformed_dataset['train'][0]['id'],\n",
    "        'conversations': transformed_dataset['train'][0]['conversations']\n",
    "    }, indent=2))\n",
    "    \n",
    "    # Save transformed dataset\n",
    "    transformed_dataset['train'].save_to_disk(\"transformed_toolace\")\n",
    "    \n",
    "    return transformed_dataset"
   ]
  },
  {
   "cell_type": "code",
   "execution_count": 16,
   "id": "99ffe0ef-34b6-4369-8f8e-2a7a162e39e5",
   "metadata": {},
   "outputs": [
    {
     "name": "stdout",
     "output_type": "stream",
     "text": [
      "\n",
      "First example in transformed dataset:\n",
      "{\n",
      "  \"id\": \"565c7d3b-0f48-4097-bcc2-0602897fc23e\",\n",
      "  \"conversations\": [\n",
      "    {\n",
      "      \"from\": \"system\",\n",
      "      \"value\": \"You are an expert in composing functions. You are given a question and a set of possible functions. \\nBased on the question, you will need to make one or more function/tool calls to achieve the purpose. \\nIf none of the function can be used, point it out. If the given question lacks the parameters required by the function,\\nalso point it out. You should only return the function call in tools call sections.\\nHere is a list of functions in JSON format that you can invoke:\\n[{\\\"name\\\": \\\"newAddress\\\", \\\"description\\\": \\\"Generates a new Ethereum address that can be used to send or receive funds. Do not lose the password! We can't restore access to an address if you lose it.\\\", \\\"parameters\\\": {\\\"type\\\": \\\"dict\\\", \\\"properties\\\": {\\\"password\\\": {\\\"description\\\": \\\"The password for the new Ethereum address\\\", \\\"type\\\": \\\"string\\\"}}, \\\"required\\\": [\\\"password\\\"]}, \\\"required\\\": null}, {\\\"name\\\": \\\"Market Trends API\\\", \\\"description\\\": \\\"Get the latest market trends and relevant news for a specified country and language.\\\", \\\"parameters\\\": {\\\"type\\\": \\\"dict\\\", \\\"properties\\\": {\\\"trend_type\\\": {\\\"description\\\": \\\"Trend type.\\\", \\\"type\\\": \\\"string\\\", \\\"enum\\\": [\\\"MARKET_INDEXES\\\", \\\"MOST_ACTIVE\\\", \\\"GAINERS\\\", \\\"LOSERS\\\", \\\"CRYPTO\\\", \\\"CURRENCIES\\\", \\\"CLIMATE_LEADERS\\\"]}, \\\"country\\\": {\\\"description\\\": \\\"The country for which to get trends, specified as a 2-letter country code - see ISO 3166.\\\", \\\"type\\\": \\\"string\\\", \\\"default\\\": \\\"us\\\"}, \\\"language\\\": {\\\"description\\\": \\\"The language to use for the results, specified as a 2-letter language code - see ISO 639-1.\\\", \\\"type\\\": \\\"string\\\", \\\"default\\\": \\\"en\\\"}}, \\\"required\\\": [\\\"trend_type\\\"]}, \\\"required\\\": null}, {\\\"name\\\": \\\"Get Futures Prices\\\", \\\"description\\\": \\\"Retrieve a list of current futures prices for various financial instruments.\\\", \\\"parameters\\\": {\\\"type\\\": \\\"dict\\\", \\\"properties\\\": {\\\"instrument_type\\\": {\\\"description\\\": \\\"Type of financial instrument (e.g., commodity, currency, index)\\\", \\\"type\\\": \\\"string\\\"}, \\\"exchange\\\": {\\\"description\\\": \\\"Name of the exchange (e.g., CME, ICE, NYMEX)\\\", \\\"type\\\": \\\"string\\\"}, \\\"start_string\\\": {\\\"description\\\": \\\"Start string for the price data (YYYY-MM-DD)\\\", \\\"type\\\": \\\"string\\\"}, \\\"end_string\\\": {\\\"description\\\": \\\"End string for the price data (YYYY-MM-DD)\\\", \\\"type\\\": \\\"string\\\"}}, \\\"required\\\": [\\\"instrument_type\\\", \\\"exchange\\\"]}, \\\"required\\\": null}, {\\\"name\\\": \\\"SEC Filings\\\", \\\"description\\\": \\\"Returns a list of SEC Filings for the requested company, including filing types, strings, and documents.\\\", \\\"parameters\\\": {\\\"type\\\": \\\"dict\\\", \\\"properties\\\": {\\\"identifier\\\": {\\\"description\\\": \\\"Publicly traded company's stock symbol or Central Index Key (CIK)\\\", \\\"type\\\": \\\"string\\\", \\\"default\\\": \\\"aapl\\\"}}, \\\"required\\\": [\\\"identifier\\\"]}, \\\"required\\\": null}, {\\\"name\\\": \\\"United States Away from Home Mobility API\\\", \\\"description\\\": \\\"Retrieve daily data on the percentage change in time spent away from home in the United States, providing insights into the economic impact of the COVID-19 pandemic.\\\", \\\"parameters\\\": {\\\"type\\\": \\\"dict\\\", \\\"properties\\\": {\\\"string\\\": {\\\"description\\\": \\\"The string for which to retrieve data (format: YYYY-MM-DD)\\\", \\\"type\\\": \\\"string\\\"}, \\\"state\\\": {\\\"description\\\": \\\"The state for which to retrieve data (optional, default: all states)\\\", \\\"type\\\": \\\"string\\\"}}, \\\"required\\\": [\\\"string\\\"]}, \\\"required\\\": null}, {\\\"name\\\": \\\"Calculate Sales Tax\\\", \\\"description\\\": \\\"Retrieves the sales tax rate applicable to a specific address. This API accepts address inputs to deliver up-to-string, relevant local sales tax rates instantly.\\\", \\\"parameters\\\": {\\\"type\\\": \\\"dict\\\", \\\"properties\\\": {\\\"country\\\": {\\\"description\\\": \\\"Set to one of the country codes listed in Supported Countries.\\\", \\\"type\\\": \\\"string\\\", \\\"default\\\": \\\"US\\\"}, \\\"city\\\": {\\\"description\\\": \\\"City name\\\", \\\"type\\\": \\\"string\\\", \\\"default\\\": \\\"Meridian\\\"}, \\\"zip\\\": {\\\"description\\\": \\\"Zip code\\\", \\\"type\\\": \\\"string\\\", \\\"default\\\": \\\"83646\\\"}, \\\"street\\\": {\\\"description\\\": \\\"Street address\\\", \\\"type\\\": \\\"string\\\", \\\"default\\\": \\\"936 Storey Ave\\\"}}, \\\"required\\\": [\\\"country\\\"]}, \\\"required\\\": null}]. \\nShould you decide to return the function call(s). \\nPut it in the format of [func1(params_name=params_value, params_name2=params_value2...), func2(params)]\\n\\nNO other text MUST be included. \\n\"\n",
      "    },\n",
      "    {\n",
      "      \"from\": \"user\",\n",
      "      \"value\": \"I'm considering investing and I'd like to know what's happening in the market right now. Could you get me the top market trends in the US?\"\n",
      "    },\n",
      "    {\n",
      "      \"from\": \"assistant\",\n",
      "      \"value\": \"[Market Trends API(trend_type=\\\"MARKET_INDEXES\\\", country=\\\"us\\\")]\"\n",
      "    },\n",
      "    {\n",
      "      \"from\": \"tool\",\n",
      "      \"value\": \"[{\\\"name\\\": \\\"Market Trends API\\\", \\\"results\\\": {\\\"trends\\\": [{\\\"name\\\": \\\"S&P 500\\\", \\\"description\\\": \\\"Standard & Poor's 500 Index is a market-capitalization-weighted index of the 500 largest U.S. publicly traded companies.\\\", \\\"data\\\": {\\\"current_value\\\": \\\"4172.80\\\", \\\"percentage_change\\\": \\\"+0.68%\\\"}}, {\\\"name\\\": \\\"DOW J\\\", \\\"description\\\": \\\"Dow Jones Industrial Average is a price-weighted average of 30 blue-chip stocks that are generally the leaders in their industry.\\\", \\\"data\\\": {\\\"current_value\\\": \\\"34479.60\\\", \\\"percentage_change\\\": \\\"+0.47%\\\"}}, {\\\"name\\\": \\\"NASDAQ\\\", \\\"description\\\": \\\"The NASDAQ Composite is a broad-based capitalization-weighted index of stocks in all three NASDAQ tiers: Global Select, Global Market and Capital Market.\\\", \\\"data\\\": {\\\"current_value\\\": \\\"13691.30\\\", \\\"percentage_change\\\": \\\"+0.90%\\\"}}]}}]\"\n",
      "    },\n",
      "    {\n",
      "      \"from\": \"assistant\",\n",
      "      \"value\": \"Here are the top Market Trends in the US right now:\\n\\n1. **S&P 500**: The Standard & Poor's 500 Index is a market-capitalization-weighted index of the 500 largest U.S. publicly traded companies. Its current value is 4172.80 with a percentage change of +0.68%.\\n\\n2. **DOW J**: The Dow Jones Industrial Average is a price-weighted average of 30 blue-chip stocks that are generally the leaders in their industry. Its current value is 34479.60 with a percentage change of +0.47%.\\n\\n3. **NASDAQ**: The NASDAQ Composite is a broad-based capitalization-weighted index of stocks in all three NASDAQ tiers: Global Select, Global Market and Capital Market. Its current value is 13691.30 with a percentage change of +0.90%.\\n\\nThis information can help you make informed decisions about your investment plans.\"\n",
      "    },\n",
      "    {\n",
      "      \"from\": \"user\",\n",
      "      \"value\": \"Could you explain what SEC filings are and how they might be useful for an investor like me?\"\n",
      "    },\n",
      "    {\n",
      "      \"from\": \"assistant\",\n",
      "      \"value\": \"Sure, SEC filings refer to official documents that are submitted by publicly traded companies to the U.S. Securities and Exchange Commission (SEC). These documents provide valuable information about a company's financial performance, its management team, ownership, key business operations, market competition, and future prospects. They are typically comprehensive and contain detailed information that a company is legally required to disclose to the public.\\n\\nInvestors like you can use these filings to better understand a company's true financial health and operations. Information you might glean from SEC filings includes:\\n\\n1. **Financial Statements**: Balance sheets, income statements, and cash flow statements can help you analyze the financial health and profitability of a company.\\n\\n2. **Management Discussion and Analysis (MD&A)**: This section offers management's perspective on the company's performance, including explanations of financial results, significant changes, market risk exposures, and future operations and strategy.\\n\\n3. **Risk Factors**: In the filing, companies are required to disclose potential risks of investing in their company. Insight into the risks the company is facing can help you make a more informed decision about investing.\\n\\n4. **Major Shareholders**: Companies must disclose the list of major shareholders. High ownership of shares by insiders could indicate confidence in the business, while large institutional ownership could suggest stability.\\n\\n5. **Director and Executive Compensation**: Information on executive remuneration packages can indicate how well the company\\u2019s interests are aligned with its executive team.\\n\\nSEC filings are a fundamental part of investment research and due diligence. They can provide deep insights into a company that may not be immediately obvious from simply looking at its earnings or share price. It's essential for investors to understand how to read and interpret these filings to make informed investment decisions.\"\n",
      "    },\n",
      "    {\n",
      "      \"from\": \"user\",\n",
      "      \"value\": \"So, a couple of years ago, I invested in a tech startup without doing any proper research. It seemed like a hot trend at the time, but the company went belly up within a year. I ended up losing a good chunk of money. What are your thoughts on that?\"\n",
      "    },\n",
      "    {\n",
      "      \"from\": \"assistant\",\n",
      "      \"value\": \"As an assistant, I'm here to provide advice and guide you in your financial decisions. Here are my thoughts:\\n\\nInvesting in startups or any company without conducting proper research carries high risk. Although some startups have very high growth potentials and can provide excellent returns, many also fail within a few years of operation. This is especially the case in the tech industry where competition is stiff and technology changes rapidly.\\n\\nThat being said, your past experience with the tech startup is an important lesson in the necessity of conducting thorough due diligence before investing. Here are some steps you might take before future investments:\\n\\n1. **Understand the Business**: Make sure you understand the company's business model, its products or services, the market it operates in and its competition.\\n\\n2. **Financial Analysis**: Review financial statements, revenue, profitability, growth rates, debt levels, and cash flow. \\n\\n3. **Management Review**: It's important to assess the quality of the management team and their plans for the company.\\n\\n4. **Use of Tools**: Utilize tools like the SEC Filings tool to retrieve important documents to get detailed information about a company's operations, management and financials.\\n\\n5. **Risk vs Reward**: Analyze the investment's potential returns in light of the potential risk. High-risk investments should have the potential for higher returns.\\n\\nRemember, all investments carry a degree of risk. As such, it can be beneficial to diversify investments to spread risk and not put all of your money into one company or sector. It may also be helpful to seek advice from financial advisors or use trusted financial services to ensure informed decisions.\\n\\nGoing forward, employing these strategies could help reduce risk and maximize potential returns on your investments.\"\n",
      "    },\n",
      "    {\n",
      "      \"from\": \"user\",\n",
      "      \"value\": \"Could you provide me with the SEC filings for Apple? Also, I\\u2019m curious about how COVID-19 has affected people's mobility away from home in the US.\"\n",
      "    },\n",
      "    {\n",
      "      \"from\": \"assistant\",\n",
      "      \"value\": \"[SEC Filings(identifier=\\\"AAPL\\\"), United States Away from Home Mobility API(string=\\\"2025-05-17\\\")]\"\n",
      "    }\n",
      "  ]\n",
      "}\n"
     ]
    },
    {
     "data": {
      "application/vnd.jupyter.widget-view+json": {
       "model_id": "559ba9105ea2459e93e007974de43eb3",
       "version_major": 2,
       "version_minor": 0
      },
      "text/plain": [
       "Saving the dataset (0/1 shards):   0%|          | 0/11300 [00:00<?, ? examples/s]"
      ]
     },
     "metadata": {},
     "output_type": "display_data"
    },
    {
     "name": "stdout",
     "output_type": "stream",
     "text": [
      "\n",
      "Verification:\n",
      "Number of examples: 11300\n",
      "Dataset columns: ['id', 'conversations']\n"
     ]
    }
   ],
   "source": [
    "transformed = transform_dataset()\n",
    "\n",
    "# Verification steps\n",
    "train_data = transformed['train']\n",
    "\n",
    "print(\"\\nVerification:\")\n",
    "print(f\"Number of examples: {len(train_data)}\")\n",
    "print(f\"Dataset columns: {train_data.column_names}\")  # Should show ['id', 'conversations']"
   ]
  },
  {
   "cell_type": "code",
   "execution_count": 10,
   "id": "ddf29f64-11f5-434f-87af-16244212ac8a",
   "metadata": {},
   "outputs": [
    {
     "name": "stdout",
     "output_type": "stream",
     "text": [
      "\n",
      "Structure verification:\n",
      "Has unique ID: True\n",
      "ID format: 643bb58e-cb21-49e9-b9b1-dc026df51028\n",
      "Number of conversations: 11\n",
      "First message is system: True\n"
     ]
    }
   ],
   "source": [
    "first_example = train_data[0]\n",
    "print(\"\\nStructure verification:\")\n",
    "print(f\"Has unique ID: {bool(first_example.get('id'))}\")\n",
    "print(f\"ID format: {first_example['id']}\")\n",
    "print(f\"Number of conversations: {len(first_example['conversations'])}\")\n",
    "print(f\"First message is system: {first_example['conversations'][0]['from'] == 'system'}\")"
   ]
  },
  {
   "cell_type": "code",
   "execution_count": 11,
   "id": "c311a607-8c8d-4c9c-af1d-5f7612c46ec5",
   "metadata": {},
   "outputs": [
    {
     "name": "stdout",
     "output_type": "stream",
     "text": [
      "\n",
      "Verifying ID uniqueness...\n",
      "Number of unique IDs: 11300\n",
      "Total number of examples: 11300\n",
      "All IDs unique: True\n"
     ]
    }
   ],
   "source": [
    "# Verify ID uniqueness\n",
    "print(\"\\nVerifying ID uniqueness...\")\n",
    "ids = set(train_data['id'])\n",
    "print(f\"Number of unique IDs: {len(ids)}\")\n",
    "print(f\"Total number of examples: {len(train_data)}\")\n",
    "print(f\"All IDs unique: {len(ids) == len(train_data)}\")"
   ]
  },
  {
   "cell_type": "markdown",
   "id": "12050d0d-e6db-447d-b490-f254f7667ce4",
   "metadata": {},
   "source": [
    "## Real tf"
   ]
  },
  {
   "cell_type": "code",
   "execution_count": 17,
   "id": "5da3d594-5c85-4aba-bbe3-cce88ec9821c",
   "metadata": {},
   "outputs": [
    {
     "data": {
      "application/vnd.jupyter.widget-view+json": {
       "model_id": "b2ec8e63d304432fb7b5860fe45b87fb",
       "version_major": 2,
       "version_minor": 0
      },
      "text/plain": [
       "Saving the dataset (0/1 shards):   0%|          | 0/11300 [00:00<?, ? examples/s]"
      ]
     },
     "metadata": {},
     "output_type": "display_data"
    }
   ],
   "source": [
    "dataset = load_dataset(\"Team-ACE/ToolACE\")\n",
    "\n",
    "# Transform data\n",
    "new_data = {\n",
    "    'id': [],\n",
    "    'conversations': []\n",
    "}\n",
    "\n",
    "# Process each example\n",
    "for example in dataset['train']:\n",
    "    # Add system message to conversations and create new structure\n",
    "    new_data['id'].append(str(uuid.uuid4()))\n",
    "    new_data['conversations'].append([\n",
    "        {'from': 'system', 'value': example['system']}\n",
    "    ] + example['conversations'])\n",
    "\n",
    "# Create new dataset with just id and conversations\n",
    "new_dataset = Dataset.from_dict(new_data)\n",
    "\n",
    "# Save it\n",
    "new_dataset.save_to_disk(\"transformed_toolace\")\n"
   ]
  },
  {
   "cell_type": "code",
   "execution_count": 20,
   "id": "fa793dfd-86b2-4a8e-9d1e-e6c3004894ec",
   "metadata": {},
   "outputs": [
    {
     "data": {
      "text/plain": [
       "[{'from': 'system',\n",
       "  'value': 'You are an expert in composing functions. You are given a question and a set of possible functions. \\nBased on the question, you will need to make one or more function/tool calls to achieve the purpose. \\nIf none of the function can be used, point it out. If the given question lacks the parameters required by the function,\\nalso point it out. You should only return the function call in tools call sections.\\nHere is a list of functions in JSON format that you can invoke:\\n[{\"name\": \"Top NFT Sales Today\", \"description\": \"Retrieve the top NFT sales for today\", \"parameters\": {\"type\": \"dict\", \"properties\": {\"limit\": {\"description\": \"The maximum number of top NFT sales to retrieve\", \"type\": \"int\"}, \"offset\": {\"description\": \"The starting point for the top NFT sales to retrieve\", \"type\": \"int\"}, \"marketplace\": {\"description\": \"The marketplace to filter NFT sales by (e.g., OpenSea, Rarible)\", \"type\": \"string\"}}, \"required\": [\"limit\"]}, \"required\": null}, {\"name\": \"IEX Regulation SHO Threshold Securities List\", \"description\": \"Retrieve a list of IEX-listed securities that have an aggregate fail to deliver position for five consecutive settlement days at a registered clearing agency, totaling 10,000 shares or more and equal to at least 0.5% of the issuer\\'s total shares outstanding.\", \"parameters\": {\"type\": \"dict\", \"properties\": {\"symbol\": {\"description\": \"The stock symbol to retrieve the threshold securities list for.\", \"type\": \"string\"}}, \"required\": [\"symbol\"]}, \"required\": null}, {\"name\": \"Get All Cryptocurrencies\", \"description\": \"Retrieve a list of all available cryptocurrencies\", \"parameters\": {\"type\": \"dict\", \"properties\": {}, \"required\": []}, \"required\": null}]. \\nShould you decide to return the function call(s). \\nPut it in the format of [func1(params_name=params_value, params_name2=params_value2...), func2(params)]\\n\\nNO other text MUST be included. \\n'},\n",
       " {'from': 'user', 'value': 'Can you show me the top 5 NFT sales for today?'},\n",
       " {'from': 'assistant', 'value': '[Top NFT Sales Today(limit=5)]'},\n",
       " {'from': 'tool',\n",
       "  'value': '[{\"name\": \"Top NFT Sales Today\", \"results\": {\"nft_sales\": [{\"nft_name\": \"CryptoPunk #1234\", \"nft_image\": \"https://example.com/cryptopunk1234.png\", \"sale_price\": 150.5, \"sale_string\": \"2023-08-21T10:00:00\"}, {\"nft_name\": \"Bored Ape #4567\", \"nft_image\": \"https://example.com/boredape4567.png\", \"sale_price\": 120.75, \"sale_string\": \"2023-08-21T10:30:00\"}, {\"nft_name\": \"Art Blocks #7890\", \"nft_image\": \"https://example.com/artblocks7890.png\", \"sale_price\": 95.0, \"sale_string\": \"2023-08-21T11:00:00\"}, {\"nft_name\": \"World of Women #2345\", \"nft_image\": \"https://example.com/wow2345.png\", \"sale_price\": 200.0, \"sale_string\": \"2023-08-21T11:30:00\"}, {\"nft_name\": \"Azuki #8765\", \"nft_image\": \"https://example.com/azuki8765.png\", \"sale_price\": 180.25, \"sale_string\": \"2023-08-21T12:00:00\"}]}}]'},\n",
       " {'from': 'assistant',\n",
       "  'value': \"Here are the top 5 NFT sales for today:\\n\\n1. **CryptoPunk #1234**\\n   - **Sale Price:** $150.5\\n   - **Sale Time:** 2023-08-21T10:00:00\\n   - ![CryptoPunk #1234](https://example.com/cryptopunk1234.png)\\n\\n2. **Bored Ape #4567**\\n   - **Sale Price:** $120.75\\n   - **Sale Time:** 2023-08-21T10:30:00\\n   - ![Bored Ape #4567](https://example.com/boredape4567.png)\\n\\n3. **Art Blocks #7890**\\n   - **Sale Price:** $95.00\\n   - **Sale Time:** 2023-08-21T11:00:00\\n   - ![Art Blocks #7890](https://example.com/artblocks7890.png)\\n\\n4. **World of Women #2345**\\n   - **Sale Price:** $200.00\\n   - **Sale Time:** 2023-08-21T11:30:00\\n   - ![World of Women #2345](https://example.com/wow2345.png)\\n\\n5. **Azuki #8765**\\n   - **Sale Price:** $180.25\\n   - **Sale Time:** 2023-08-21T12:00:00\\n   - ![Azuki #8765](https://example.com/azuki8765.png)\\n\\nThese are the most notable NFT transactions from today's marketplace.\"},\n",
       " {'from': 'user',\n",
       "  'value': \"It's interesting to see these prices. How do you think recent fluctuations in cryptocurrency values are affecting these NFT sales?\"},\n",
       " {'from': 'assistant',\n",
       "  'value': \"As an AI assistant, I don't have personal thoughts or opinions. However, I can tell you what experts generally agree on. \\n\\nThe prices of non-fungible tokens (NFTs) can be significantly influenced by the fluctuations in cryptocurrency values since NFT purchases are usually made with cryptocurrencies like Ether. \\n\\nWhen cryptocurrency prices go up, investors have more buying power, and the reverse is true when cryptocurrency prices drop. Therefore, a surge in the value of cryptocurrencies can lead to an increase in the prices of NFTs and a greater number of sales. \\n\\nOn the other hand, if cryptocurrency prices decrease significantly, it can cause a slowdown in the NFT market as potential buyers might be hesitant to spend their devalued currencies on NFTs.\\n\\nPlease note that the NFT market is complex and can be influenced by many different factors beyond cryptocurrency values, such as overarching economic trends, the perceived value of the digital assets, and market speculation. Always consider multiple factors when evaluating the NFT market.\"},\n",
       " {'from': 'user',\n",
       "  'value': \"That's quite insightful! Do you think it's a good idea to buy some Ether right now, considering this may influence NFT sales positively?\"},\n",
       " {'from': 'assistant',\n",
       "  'value': \"As an AI, I don't provide financial advice or personal recommendations. \\n\\nCryptocurrency investments, including Ether, come with their own set of risks and rewards. Prices can be highly volatile and are influenced by numerous factors, including technological developments, regulatory news, market demand, and global economic conditions.\\n\\nBefore making any investment, it's important to do thorough research and consider your financial goals, tolerance for risk, and investment timeline. You may also want to consult with a financial advisor or conduct further research into Ether and its performance. \\n\\nRemember, investing in any form of cryptocurrency should only form part of a balanced and diversified portfolio.\"}]"
      ]
     },
     "execution_count": 20,
     "metadata": {},
     "output_type": "execute_result"
    }
   ],
   "source": [
    "new_dataset[23]['conversations']"
   ]
  },
  {
   "cell_type": "code",
   "execution_count": null,
   "id": "777486f2-46ee-4295-9965-acf92e1cdff6",
   "metadata": {},
   "outputs": [],
   "source": []
  },
  {
   "cell_type": "code",
   "execution_count": 2,
   "id": "aaa1ca03-0c69-4877-96d5-ca8cb4f31090",
   "metadata": {},
   "outputs": [],
   "source": [
    "import transformers\n",
    "import torch\n",
    "from datasets import load_from_disk\n",
    "from tqdm import tqdm"
   ]
  },
  {
   "cell_type": "code",
   "execution_count": null,
   "id": "921144c6-da1b-466c-a49b-eabc74c8d43b",
   "metadata": {},
   "outputs": [],
   "source": []
  },
  {
   "cell_type": "code",
   "execution_count": 3,
   "id": "321edca0-21b6-4ad3-93c4-21c753e1c515",
   "metadata": {},
   "outputs": [],
   "source": [
    "import os\n",
    "os.environ[\"CUDA_VISIBLE_DEVICES\"] = \"4,5\""
   ]
  },
  {
   "cell_type": "code",
   "execution_count": 4,
   "id": "def79067-2a5e-48b5-8e98-f009113cac8d",
   "metadata": {},
   "outputs": [
    {
     "data": {
      "application/vnd.jupyter.widget-view+json": {
       "model_id": "0d53b1d5838d4ccca9465ca63fd37b01",
       "version_major": 2,
       "version_minor": 0
      },
      "text/plain": [
       "Loading checkpoint shards:   0%|          | 0/30 [00:00<?, ?it/s]"
      ]
     },
     "metadata": {},
     "output_type": "display_data"
    },
    {
     "name": "stderr",
     "output_type": "stream",
     "text": [
      "Device set to use cuda:0\n"
     ]
    }
   ],
   "source": [
    "pipeline = transformers.pipeline(\n",
    "    \"text-generation\",\n",
    "    model=\"meta-llama/Llama-3.3-70B-Instruct\",\n",
    "    model_kwargs={\"torch_dtype\": torch.bfloat16},\n",
    "    device_map=\"auto\"\n",
    ")"
   ]
  },
  {
   "cell_type": "code",
   "execution_count": 24,
   "id": "32b2411c-e621-49bc-b9c6-304feee84bce",
   "metadata": {},
   "outputs": [],
   "source": [
    "SYSTEM_PROMPT = \"\"\"\n",
    "You are a high 170IQ reasoning super smart AI, your job is to enhance existing conversation examples. Remember return the entire conversation as is BUT\n",
    "\n",
    "BUT We are add Chain of Thought and planning to \"Assistant\" messages whenever it returns a tool call. \n",
    "\n",
    "Remember ONLY When it does return a tool, we all add thinking and reasoning Traces before it to add logic otherwise we don't touch the conversation history\n",
    "\n",
    "Remember to return the entire message but only enhance the assitant messages whenever it calls a tool with thoghts\n",
    "\n",
    "Please keep in mind we are not modifying anything in the example neither are we changing what it does, only add CoT everytime a tool gets called in the conversation\n",
    "\n",
    "Think out loud and max out your tokens when adding CoT\n",
    "\"\"\""
   ]
  },
  {
   "cell_type": "code",
   "execution_count": 25,
   "id": "850ca47a-5cf1-4fe2-aff6-aedd45468210",
   "metadata": {},
   "outputs": [
    {
     "data": {
      "text/plain": [
       "{'id': '59cc174e-0b81-4ffc-8108-bd0a9350f0f2',\n",
       " 'conversations': [{'from': 'system',\n",
       "   'value': 'You are an expert in composing functions. You are given a question and a set of possible functions. \\nBased on the question, you will need to make one or more function/tool calls to achieve the purpose. \\nIf none of the function can be used, point it out. If the given question lacks the parameters required by the function,\\nalso point it out. You should only return the function call in tools call sections.\\nHere is a list of functions in JSON format that you can invoke:\\n[{\"name\": \"newAddress\", \"description\": \"Generates a new Ethereum address that can be used to send or receive funds. Do not lose the password! We can\\'t restore access to an address if you lose it.\", \"parameters\": {\"type\": \"dict\", \"properties\": {\"password\": {\"description\": \"The password for the new Ethereum address\", \"type\": \"string\"}}, \"required\": [\"password\"]}, \"required\": null}, {\"name\": \"Market Trends API\", \"description\": \"Get the latest market trends and relevant news for a specified country and language.\", \"parameters\": {\"type\": \"dict\", \"properties\": {\"trend_type\": {\"description\": \"Trend type.\", \"type\": \"string\", \"enum\": [\"MARKET_INDEXES\", \"MOST_ACTIVE\", \"GAINERS\", \"LOSERS\", \"CRYPTO\", \"CURRENCIES\", \"CLIMATE_LEADERS\"]}, \"country\": {\"description\": \"The country for which to get trends, specified as a 2-letter country code - see ISO 3166.\", \"type\": \"string\", \"default\": \"us\"}, \"language\": {\"description\": \"The language to use for the results, specified as a 2-letter language code - see ISO 639-1.\", \"type\": \"string\", \"default\": \"en\"}}, \"required\": [\"trend_type\"]}, \"required\": null}, {\"name\": \"Get Futures Prices\", \"description\": \"Retrieve a list of current futures prices for various financial instruments.\", \"parameters\": {\"type\": \"dict\", \"properties\": {\"instrument_type\": {\"description\": \"Type of financial instrument (e.g., commodity, currency, index)\", \"type\": \"string\"}, \"exchange\": {\"description\": \"Name of the exchange (e.g., CME, ICE, NYMEX)\", \"type\": \"string\"}, \"start_string\": {\"description\": \"Start string for the price data (YYYY-MM-DD)\", \"type\": \"string\"}, \"end_string\": {\"description\": \"End string for the price data (YYYY-MM-DD)\", \"type\": \"string\"}}, \"required\": [\"instrument_type\", \"exchange\"]}, \"required\": null}, {\"name\": \"SEC Filings\", \"description\": \"Returns a list of SEC Filings for the requested company, including filing types, strings, and documents.\", \"parameters\": {\"type\": \"dict\", \"properties\": {\"identifier\": {\"description\": \"Publicly traded company\\'s stock symbol or Central Index Key (CIK)\", \"type\": \"string\", \"default\": \"aapl\"}}, \"required\": [\"identifier\"]}, \"required\": null}, {\"name\": \"United States Away from Home Mobility API\", \"description\": \"Retrieve daily data on the percentage change in time spent away from home in the United States, providing insights into the economic impact of the COVID-19 pandemic.\", \"parameters\": {\"type\": \"dict\", \"properties\": {\"string\": {\"description\": \"The string for which to retrieve data (format: YYYY-MM-DD)\", \"type\": \"string\"}, \"state\": {\"description\": \"The state for which to retrieve data (optional, default: all states)\", \"type\": \"string\"}}, \"required\": [\"string\"]}, \"required\": null}, {\"name\": \"Calculate Sales Tax\", \"description\": \"Retrieves the sales tax rate applicable to a specific address. This API accepts address inputs to deliver up-to-string, relevant local sales tax rates instantly.\", \"parameters\": {\"type\": \"dict\", \"properties\": {\"country\": {\"description\": \"Set to one of the country codes listed in Supported Countries.\", \"type\": \"string\", \"default\": \"US\"}, \"city\": {\"description\": \"City name\", \"type\": \"string\", \"default\": \"Meridian\"}, \"zip\": {\"description\": \"Zip code\", \"type\": \"string\", \"default\": \"83646\"}, \"street\": {\"description\": \"Street address\", \"type\": \"string\", \"default\": \"936 Storey Ave\"}}, \"required\": [\"country\"]}, \"required\": null}]. \\nShould you decide to return the function call(s). \\nPut it in the format of [func1(params_name=params_value, params_name2=params_value2...), func2(params)]\\n\\nNO other text MUST be included. \\n'},\n",
       "  {'from': 'user',\n",
       "   'value': \"I'm considering investing and I'd like to know what's happening in the market right now. Could you get me the top market trends in the US?\"},\n",
       "  {'from': 'assistant',\n",
       "   'value': '[Market Trends API(trend_type=\"MARKET_INDEXES\", country=\"us\")]'},\n",
       "  {'from': 'tool',\n",
       "   'value': '[{\"name\": \"Market Trends API\", \"results\": {\"trends\": [{\"name\": \"S&P 500\", \"description\": \"Standard & Poor\\'s 500 Index is a market-capitalization-weighted index of the 500 largest U.S. publicly traded companies.\", \"data\": {\"current_value\": \"4172.80\", \"percentage_change\": \"+0.68%\"}}, {\"name\": \"DOW J\", \"description\": \"Dow Jones Industrial Average is a price-weighted average of 30 blue-chip stocks that are generally the leaders in their industry.\", \"data\": {\"current_value\": \"34479.60\", \"percentage_change\": \"+0.47%\"}}, {\"name\": \"NASDAQ\", \"description\": \"The NASDAQ Composite is a broad-based capitalization-weighted index of stocks in all three NASDAQ tiers: Global Select, Global Market and Capital Market.\", \"data\": {\"current_value\": \"13691.30\", \"percentage_change\": \"+0.90%\"}}]}}]'},\n",
       "  {'from': 'assistant',\n",
       "   'value': \"Here are the top Market Trends in the US right now:\\n\\n1. **S&P 500**: The Standard & Poor's 500 Index is a market-capitalization-weighted index of the 500 largest U.S. publicly traded companies. Its current value is 4172.80 with a percentage change of +0.68%.\\n\\n2. **DOW J**: The Dow Jones Industrial Average is a price-weighted average of 30 blue-chip stocks that are generally the leaders in their industry. Its current value is 34479.60 with a percentage change of +0.47%.\\n\\n3. **NASDAQ**: The NASDAQ Composite is a broad-based capitalization-weighted index of stocks in all three NASDAQ tiers: Global Select, Global Market and Capital Market. Its current value is 13691.30 with a percentage change of +0.90%.\\n\\nThis information can help you make informed decisions about your investment plans.\"},\n",
       "  {'from': 'user',\n",
       "   'value': 'Could you explain what SEC filings are and how they might be useful for an investor like me?'},\n",
       "  {'from': 'assistant',\n",
       "   'value': \"Sure, SEC filings refer to official documents that are submitted by publicly traded companies to the U.S. Securities and Exchange Commission (SEC). These documents provide valuable information about a company's financial performance, its management team, ownership, key business operations, market competition, and future prospects. They are typically comprehensive and contain detailed information that a company is legally required to disclose to the public.\\n\\nInvestors like you can use these filings to better understand a company's true financial health and operations. Information you might glean from SEC filings includes:\\n\\n1. **Financial Statements**: Balance sheets, income statements, and cash flow statements can help you analyze the financial health and profitability of a company.\\n\\n2. **Management Discussion and Analysis (MD&A)**: This section offers management's perspective on the company's performance, including explanations of financial results, significant changes, market risk exposures, and future operations and strategy.\\n\\n3. **Risk Factors**: In the filing, companies are required to disclose potential risks of investing in their company. Insight into the risks the company is facing can help you make a more informed decision about investing.\\n\\n4. **Major Shareholders**: Companies must disclose the list of major shareholders. High ownership of shares by insiders could indicate confidence in the business, while large institutional ownership could suggest stability.\\n\\n5. **Director and Executive Compensation**: Information on executive remuneration packages can indicate how well the company’s interests are aligned with its executive team.\\n\\nSEC filings are a fundamental part of investment research and due diligence. They can provide deep insights into a company that may not be immediately obvious from simply looking at its earnings or share price. It's essential for investors to understand how to read and interpret these filings to make informed investment decisions.\"},\n",
       "  {'from': 'user',\n",
       "   'value': 'So, a couple of years ago, I invested in a tech startup without doing any proper research. It seemed like a hot trend at the time, but the company went belly up within a year. I ended up losing a good chunk of money. What are your thoughts on that?'},\n",
       "  {'from': 'assistant',\n",
       "   'value': \"As an assistant, I'm here to provide advice and guide you in your financial decisions. Here are my thoughts:\\n\\nInvesting in startups or any company without conducting proper research carries high risk. Although some startups have very high growth potentials and can provide excellent returns, many also fail within a few years of operation. This is especially the case in the tech industry where competition is stiff and technology changes rapidly.\\n\\nThat being said, your past experience with the tech startup is an important lesson in the necessity of conducting thorough due diligence before investing. Here are some steps you might take before future investments:\\n\\n1. **Understand the Business**: Make sure you understand the company's business model, its products or services, the market it operates in and its competition.\\n\\n2. **Financial Analysis**: Review financial statements, revenue, profitability, growth rates, debt levels, and cash flow. \\n\\n3. **Management Review**: It's important to assess the quality of the management team and their plans for the company.\\n\\n4. **Use of Tools**: Utilize tools like the SEC Filings tool to retrieve important documents to get detailed information about a company's operations, management and financials.\\n\\n5. **Risk vs Reward**: Analyze the investment's potential returns in light of the potential risk. High-risk investments should have the potential for higher returns.\\n\\nRemember, all investments carry a degree of risk. As such, it can be beneficial to diversify investments to spread risk and not put all of your money into one company or sector. It may also be helpful to seek advice from financial advisors or use trusted financial services to ensure informed decisions.\\n\\nGoing forward, employing these strategies could help reduce risk and maximize potential returns on your investments.\"},\n",
       "  {'from': 'user',\n",
       "   'value': \"Could you provide me with the SEC filings for Apple? Also, I’m curious about how COVID-19 has affected people's mobility away from home in the US.\"},\n",
       "  {'from': 'assistant',\n",
       "   'value': '[SEC Filings(identifier=\"AAPL\"), United States Away from Home Mobility API(string=\"2025-05-17\")]'}]}"
      ]
     },
     "execution_count": 25,
     "metadata": {},
     "output_type": "execute_result"
    }
   ],
   "source": [
    "new_dataset[0]"
   ]
  },
  {
   "cell_type": "code",
   "execution_count": 31,
   "id": "5ac7e6e9-5880-4847-b0f0-21ac25ade55d",
   "metadata": {},
   "outputs": [
    {
     "data": {
      "text/plain": [
       "[{'from': 'system',\n",
       "  'value': 'You are an expert in composing functions. You are given a question and a set of possible functions. \\nBased on the question, you will need to make one or more function/tool calls to achieve the purpose. \\nIf none of the function can be used, point it out. If the given question lacks the parameters required by the function,\\nalso point it out. You should only return the function call in tools call sections.\\nHere is a list of functions in JSON format that you can invoke:\\n[{\"name\": \"Stalled Pattern Indicator\", \"description\": \"Retrieve stalled pattern indicators for a specific cryptocurrency symbol.\", \"parameters\": {\"type\": \"dict\", \"properties\": {\"interval\": {\"description\": \"Time interval for the data (e.g., 1m, 5m, 15m, etc.)\", \"type\": \"string\"}, \"exchange\": {\"description\": \"Exchange to retrieve data from (e.g., binance, kraken, etc.)\", \"type\": \"string\"}, \"symbol\": {\"description\": \"Cryptocurrency symbol to retrieve data for (e.g., btcusdt, ethusdt, etc.)\", \"type\": \"string\"}, \"market\": {\"description\": \"Market type (spot, usdt-perpetual, inverse-perpetual) to retrieve data for\", \"type\": \"string\"}}, \"required\": [\"interval\", \"exchange\", \"symbol\", \"market\"]}, \"required\": null}, {\"name\": \"Search News\", \"description\": \"Search for news articles by keyword or phrase\", \"parameters\": {\"type\": \"dict\", \"properties\": {\"keyword\": {\"description\": \"The keyword or phrase to search for\", \"type\": \"string\"}, \"pageIndex\": {\"description\": \"The page index for pagination\", \"type\": \"int\"}, \"pageSize\": {\"description\": \"The number of results per page for pagination\", \"type\": \"int\"}}, \"required\": [\"keyword\"]}, \"required\": null}, {\"name\": \"CurrencyConversion\", \"description\": \"The CurrencyConversion API allows developers to convert currencies in real-time. It provides accurate and up-to-string exchange rates, enabling users to make informed financial decisions.\", \"parameters\": {\"type\": \"dict\", \"properties\": {\"amount\": {\"description\": \"The value of the amount to be converted\", \"type\": \"float\"}, \"from\": {\"description\": \"The currency to convert from\", \"type\": \"string\"}, \"to\": {\"description\": \"The currency to convert to\", \"type\": \"string\"}, \"string\": {\"description\": \"The string for which to retrieve exchange rates\", \"type\": \"string\", \"default\": \"\"}}, \"required\": [\"amount\", \"from\", \"to\"]}, \"required\": null}, {\"name\": \"Get Net Income\", \"description\": \"Retrieve the net income of a specified stock\", \"parameters\": {\"type\": \"dict\", \"properties\": {\"symbol\": {\"description\": \"Ticker Symbol (Ex. \\'AAPL\\' is Ticker symbol for Apple Inc. on the stock market)\", \"type\": \"string\"}, \"region\": {\"description\": \"One of the following regions: US, BR, AU, CA, FR, DE, HK, IN, IT, ES, GB, S\", \"type\": \"string\", \"default\": \"US\"}}, \"required\": [\"symbol\"]}, \"required\": null}, {\"name\": \"Symbols Sec Filings\", \"description\": \"Retrieve a list of SEC filings for a given stock symbol.\", \"parameters\": {\"type\": \"dict\", \"properties\": {\"ticker_slug\": {\"description\": \"The ticker symbol of the stock\", \"type\": \"string\"}, \"page_number\": {\"description\": \"The page number of the SEC filings to retrieve\", \"type\": \"int\"}, \"category\": {\"description\": \"The category of SEC filings to filter by (e.g. \\'all\\', \\'10-K\\', \\'10-Q\\', etc.)\", \"type\": \"string\"}}, \"required\": [\"ticker_slug\", \"page_number\"]}, \"required\": null}]. \\nShould you decide to return the function call(s). \\nPut it in the format of [func1(params_name=params_value, params_name2=params_value2...), func2(params)]\\n\\nNO other text MUST be included. \\n'},\n",
       " {'from': 'user', 'value': 'Can you tell me the net income of Apple Inc?'},\n",
       " {'from': 'assistant', 'value': '[Get Net Income(symbol=\"AAPL\")]'},\n",
       " {'from': 'tool',\n",
       "  'value': '[{\"name\": \"Get Net Income\", \"results\": {\"net_income\": 57411000000, \"region\": \"US\"}}]'},\n",
       " {'from': 'assistant',\n",
       "  'value': 'The net income of Apple Inc. (AAPL) is $57,411,000,000 for the specified period in the US region.'},\n",
       " {'from': 'user',\n",
       "  'value': \"Wow, that's quite a sum! It seems like these tech giants always rake in the big bucks.\"},\n",
       " {'from': 'assistant',\n",
       "  'value': 'Yes, indeed. Major technology companies like Apple Inc. often report high net income due to their vast global footprint and diverse product offerings. Is there anything else you would like to know?'},\n",
       " {'from': 'user',\n",
       "  'value': 'Can you retrieve the stalled pattern indicators for Bitcoin on Binance with a 15-minute interval for the spot market?'},\n",
       " {'from': 'assistant',\n",
       "  'value': '[Stalled Pattern Indicator(interval=\"15m\", exchange=\"binance\", symbol=\"btcusdt\", market=\"spot\")]'}]"
      ]
     },
     "execution_count": 31,
     "metadata": {},
     "output_type": "execute_result"
    }
   ],
   "source": [
    "new_dataset[45]['conversations']"
   ]
  },
  {
   "cell_type": "code",
   "execution_count": 27,
   "id": "cbeaae85-4a3a-4929-9ba4-5d470dbfddca",
   "metadata": {},
   "outputs": [
    {
     "name": "stderr",
     "output_type": "stream",
     "text": [
      "  0%|                                                                                                           | 0/9 [00:07<?, ?it/s]\n"
     ]
    },
    {
     "ename": "KeyboardInterrupt",
     "evalue": "",
     "output_type": "error",
     "traceback": [
      "\u001b[0;31m---------------------------------------------------------------------------\u001b[0m",
      "\u001b[0;31mKeyboardInterrupt\u001b[0m                         Traceback (most recent call last)",
      "Cell \u001b[0;32mIn[27], line 8\u001b[0m\n\u001b[1;32m      4\u001b[0m \u001b[38;5;28;01mfor\u001b[39;00m example \u001b[38;5;129;01min\u001b[39;00m tqdm(new_dataset[\u001b[38;5;241m23\u001b[39m][\u001b[38;5;124m'\u001b[39m\u001b[38;5;124mconversations\u001b[39m\u001b[38;5;124m'\u001b[39m]):\n\u001b[1;32m      5\u001b[0m     messages \u001b[38;5;241m=\u001b[39m [\n\u001b[1;32m      6\u001b[0m     {\u001b[38;5;124m\"\u001b[39m\u001b[38;5;124mrole\u001b[39m\u001b[38;5;124m\"\u001b[39m: \u001b[38;5;124m\"\u001b[39m\u001b[38;5;124msystem\u001b[39m\u001b[38;5;124m\"\u001b[39m, \u001b[38;5;124m\"\u001b[39m\u001b[38;5;124mcontent\u001b[39m\u001b[38;5;124m\"\u001b[39m: SYSTEM_PROMPT},\n\u001b[1;32m      7\u001b[0m     {\u001b[38;5;124m\"\u001b[39m\u001b[38;5;124mrole\u001b[39m\u001b[38;5;124m\"\u001b[39m: \u001b[38;5;124m\"\u001b[39m\u001b[38;5;124muser\u001b[39m\u001b[38;5;124m\"\u001b[39m, \u001b[38;5;124m\"\u001b[39m\u001b[38;5;124mcontent\u001b[39m\u001b[38;5;124m\"\u001b[39m: \u001b[38;5;124mf\u001b[39m\u001b[38;5;124m\"\u001b[39m\u001b[38;5;132;01m{\u001b[39;00mexample\u001b[38;5;132;01m}\u001b[39;00m\u001b[38;5;124m\"\u001b[39m},]\n\u001b[0;32m----> 8\u001b[0m     outputs \u001b[38;5;241m=\u001b[39m \u001b[43mpipeline\u001b[49m\u001b[43m(\u001b[49m\n\u001b[1;32m      9\u001b[0m \u001b[43m    \u001b[49m\u001b[43mmessages\u001b[49m\u001b[43m,\u001b[49m\n\u001b[1;32m     10\u001b[0m \u001b[43m    \u001b[49m\u001b[43mmax_new_tokens\u001b[49m\u001b[38;5;241;43m=\u001b[39;49m\u001b[38;5;241;43m128000\u001b[39;49m\u001b[43m)\u001b[49m\n\u001b[1;32m     12\u001b[0m     \u001b[38;5;66;03m# Get response using your method\u001b[39;00m\n\u001b[1;32m     13\u001b[0m     response \u001b[38;5;241m=\u001b[39m outputs[\u001b[38;5;241m0\u001b[39m][\u001b[38;5;124m\"\u001b[39m\u001b[38;5;124mgenerated_text\u001b[39m\u001b[38;5;124m\"\u001b[39m][\u001b[38;5;241m-\u001b[39m\u001b[38;5;241m1\u001b[39m][\u001b[38;5;124m'\u001b[39m\u001b[38;5;124mcontent\u001b[39m\u001b[38;5;124m'\u001b[39m]\n",
      "File \u001b[0;32m~/.conda/envs/BFCL/lib/python3.10/site-packages/transformers/pipelines/text_generation.py:278\u001b[0m, in \u001b[0;36mTextGenerationPipeline.__call__\u001b[0;34m(self, text_inputs, **kwargs)\u001b[0m\n\u001b[1;32m    275\u001b[0m \u001b[38;5;28;01mif\u001b[39;00m \u001b[38;5;28misinstance\u001b[39m(first_item, (\u001b[38;5;28mlist\u001b[39m, \u001b[38;5;28mtuple\u001b[39m, \u001b[38;5;28mdict\u001b[39m)):\n\u001b[1;32m    276\u001b[0m     \u001b[38;5;66;03m# We have one or more prompts in list-of-dicts format, so this is chat mode\u001b[39;00m\n\u001b[1;32m    277\u001b[0m     \u001b[38;5;28;01mif\u001b[39;00m \u001b[38;5;28misinstance\u001b[39m(first_item, \u001b[38;5;28mdict\u001b[39m):\n\u001b[0;32m--> 278\u001b[0m         \u001b[38;5;28;01mreturn\u001b[39;00m \u001b[38;5;28;43msuper\u001b[39;49m\u001b[43m(\u001b[49m\u001b[43m)\u001b[49m\u001b[38;5;241;43m.\u001b[39;49m\u001b[38;5;21;43m__call__\u001b[39;49m\u001b[43m(\u001b[49m\u001b[43mChat\u001b[49m\u001b[43m(\u001b[49m\u001b[43mtext_inputs\u001b[49m\u001b[43m)\u001b[49m\u001b[43m,\u001b[49m\u001b[43m \u001b[49m\u001b[38;5;241;43m*\u001b[39;49m\u001b[38;5;241;43m*\u001b[39;49m\u001b[43mkwargs\u001b[49m\u001b[43m)\u001b[49m\n\u001b[1;32m    279\u001b[0m     \u001b[38;5;28;01melse\u001b[39;00m:\n\u001b[1;32m    280\u001b[0m         chats \u001b[38;5;241m=\u001b[39m (Chat(chat) \u001b[38;5;28;01mfor\u001b[39;00m chat \u001b[38;5;129;01min\u001b[39;00m text_inputs)  \u001b[38;5;66;03m# 🐈 🐈 🐈\u001b[39;00m\n",
      "File \u001b[0;32m~/.conda/envs/BFCL/lib/python3.10/site-packages/transformers/pipelines/base.py:1362\u001b[0m, in \u001b[0;36mPipeline.__call__\u001b[0;34m(self, inputs, num_workers, batch_size, *args, **kwargs)\u001b[0m\n\u001b[1;32m   1354\u001b[0m     \u001b[38;5;28;01mreturn\u001b[39;00m \u001b[38;5;28mnext\u001b[39m(\n\u001b[1;32m   1355\u001b[0m         \u001b[38;5;28miter\u001b[39m(\n\u001b[1;32m   1356\u001b[0m             \u001b[38;5;28mself\u001b[39m\u001b[38;5;241m.\u001b[39mget_iterator(\n\u001b[0;32m   (...)\u001b[0m\n\u001b[1;32m   1359\u001b[0m         )\n\u001b[1;32m   1360\u001b[0m     )\n\u001b[1;32m   1361\u001b[0m \u001b[38;5;28;01melse\u001b[39;00m:\n\u001b[0;32m-> 1362\u001b[0m     \u001b[38;5;28;01mreturn\u001b[39;00m \u001b[38;5;28;43mself\u001b[39;49m\u001b[38;5;241;43m.\u001b[39;49m\u001b[43mrun_single\u001b[49m\u001b[43m(\u001b[49m\u001b[43minputs\u001b[49m\u001b[43m,\u001b[49m\u001b[43m \u001b[49m\u001b[43mpreprocess_params\u001b[49m\u001b[43m,\u001b[49m\u001b[43m \u001b[49m\u001b[43mforward_params\u001b[49m\u001b[43m,\u001b[49m\u001b[43m \u001b[49m\u001b[43mpostprocess_params\u001b[49m\u001b[43m)\u001b[49m\n",
      "File \u001b[0;32m~/.conda/envs/BFCL/lib/python3.10/site-packages/transformers/pipelines/base.py:1369\u001b[0m, in \u001b[0;36mPipeline.run_single\u001b[0;34m(self, inputs, preprocess_params, forward_params, postprocess_params)\u001b[0m\n\u001b[1;32m   1367\u001b[0m \u001b[38;5;28;01mdef\u001b[39;00m \u001b[38;5;21mrun_single\u001b[39m(\u001b[38;5;28mself\u001b[39m, inputs, preprocess_params, forward_params, postprocess_params):\n\u001b[1;32m   1368\u001b[0m     model_inputs \u001b[38;5;241m=\u001b[39m \u001b[38;5;28mself\u001b[39m\u001b[38;5;241m.\u001b[39mpreprocess(inputs, \u001b[38;5;241m*\u001b[39m\u001b[38;5;241m*\u001b[39mpreprocess_params)\n\u001b[0;32m-> 1369\u001b[0m     model_outputs \u001b[38;5;241m=\u001b[39m \u001b[38;5;28;43mself\u001b[39;49m\u001b[38;5;241;43m.\u001b[39;49m\u001b[43mforward\u001b[49m\u001b[43m(\u001b[49m\u001b[43mmodel_inputs\u001b[49m\u001b[43m,\u001b[49m\u001b[43m \u001b[49m\u001b[38;5;241;43m*\u001b[39;49m\u001b[38;5;241;43m*\u001b[39;49m\u001b[43mforward_params\u001b[49m\u001b[43m)\u001b[49m\n\u001b[1;32m   1370\u001b[0m     outputs \u001b[38;5;241m=\u001b[39m \u001b[38;5;28mself\u001b[39m\u001b[38;5;241m.\u001b[39mpostprocess(model_outputs, \u001b[38;5;241m*\u001b[39m\u001b[38;5;241m*\u001b[39mpostprocess_params)\n\u001b[1;32m   1371\u001b[0m     \u001b[38;5;28;01mreturn\u001b[39;00m outputs\n",
      "File \u001b[0;32m~/.conda/envs/BFCL/lib/python3.10/site-packages/transformers/pipelines/base.py:1269\u001b[0m, in \u001b[0;36mPipeline.forward\u001b[0;34m(self, model_inputs, **forward_params)\u001b[0m\n\u001b[1;32m   1267\u001b[0m     \u001b[38;5;28;01mwith\u001b[39;00m inference_context():\n\u001b[1;32m   1268\u001b[0m         model_inputs \u001b[38;5;241m=\u001b[39m \u001b[38;5;28mself\u001b[39m\u001b[38;5;241m.\u001b[39m_ensure_tensor_on_device(model_inputs, device\u001b[38;5;241m=\u001b[39m\u001b[38;5;28mself\u001b[39m\u001b[38;5;241m.\u001b[39mdevice)\n\u001b[0;32m-> 1269\u001b[0m         model_outputs \u001b[38;5;241m=\u001b[39m \u001b[38;5;28;43mself\u001b[39;49m\u001b[38;5;241;43m.\u001b[39;49m\u001b[43m_forward\u001b[49m\u001b[43m(\u001b[49m\u001b[43mmodel_inputs\u001b[49m\u001b[43m,\u001b[49m\u001b[43m \u001b[49m\u001b[38;5;241;43m*\u001b[39;49m\u001b[38;5;241;43m*\u001b[39;49m\u001b[43mforward_params\u001b[49m\u001b[43m)\u001b[49m\n\u001b[1;32m   1270\u001b[0m         model_outputs \u001b[38;5;241m=\u001b[39m \u001b[38;5;28mself\u001b[39m\u001b[38;5;241m.\u001b[39m_ensure_tensor_on_device(model_outputs, device\u001b[38;5;241m=\u001b[39mtorch\u001b[38;5;241m.\u001b[39mdevice(\u001b[38;5;124m\"\u001b[39m\u001b[38;5;124mcpu\u001b[39m\u001b[38;5;124m\"\u001b[39m))\n\u001b[1;32m   1271\u001b[0m \u001b[38;5;28;01melse\u001b[39;00m:\n",
      "File \u001b[0;32m~/.conda/envs/BFCL/lib/python3.10/site-packages/transformers/pipelines/text_generation.py:383\u001b[0m, in \u001b[0;36mTextGenerationPipeline._forward\u001b[0;34m(self, model_inputs, **generate_kwargs)\u001b[0m\n\u001b[1;32m    380\u001b[0m \u001b[38;5;28;01mif\u001b[39;00m \u001b[38;5;124m\"\u001b[39m\u001b[38;5;124mgeneration_config\u001b[39m\u001b[38;5;124m\"\u001b[39m \u001b[38;5;129;01mnot\u001b[39;00m \u001b[38;5;129;01min\u001b[39;00m generate_kwargs:\n\u001b[1;32m    381\u001b[0m     generate_kwargs[\u001b[38;5;124m\"\u001b[39m\u001b[38;5;124mgeneration_config\u001b[39m\u001b[38;5;124m\"\u001b[39m] \u001b[38;5;241m=\u001b[39m \u001b[38;5;28mself\u001b[39m\u001b[38;5;241m.\u001b[39mgeneration_config\n\u001b[0;32m--> 383\u001b[0m generated_sequence \u001b[38;5;241m=\u001b[39m \u001b[38;5;28;43mself\u001b[39;49m\u001b[38;5;241;43m.\u001b[39;49m\u001b[43mmodel\u001b[49m\u001b[38;5;241;43m.\u001b[39;49m\u001b[43mgenerate\u001b[49m\u001b[43m(\u001b[49m\u001b[43minput_ids\u001b[49m\u001b[38;5;241;43m=\u001b[39;49m\u001b[43minput_ids\u001b[49m\u001b[43m,\u001b[49m\u001b[43m \u001b[49m\u001b[43mattention_mask\u001b[49m\u001b[38;5;241;43m=\u001b[39;49m\u001b[43mattention_mask\u001b[49m\u001b[43m,\u001b[49m\u001b[43m \u001b[49m\u001b[38;5;241;43m*\u001b[39;49m\u001b[38;5;241;43m*\u001b[39;49m\u001b[43mgenerate_kwargs\u001b[49m\u001b[43m)\u001b[49m\n\u001b[1;32m    384\u001b[0m out_b \u001b[38;5;241m=\u001b[39m generated_sequence\u001b[38;5;241m.\u001b[39mshape[\u001b[38;5;241m0\u001b[39m]\n\u001b[1;32m    385\u001b[0m \u001b[38;5;28;01mif\u001b[39;00m \u001b[38;5;28mself\u001b[39m\u001b[38;5;241m.\u001b[39mframework \u001b[38;5;241m==\u001b[39m \u001b[38;5;124m\"\u001b[39m\u001b[38;5;124mpt\u001b[39m\u001b[38;5;124m\"\u001b[39m:\n",
      "File \u001b[0;32m~/.conda/envs/BFCL/lib/python3.10/site-packages/torch/utils/_contextlib.py:116\u001b[0m, in \u001b[0;36mcontext_decorator.<locals>.decorate_context\u001b[0;34m(*args, **kwargs)\u001b[0m\n\u001b[1;32m    113\u001b[0m \u001b[38;5;129m@functools\u001b[39m\u001b[38;5;241m.\u001b[39mwraps(func)\n\u001b[1;32m    114\u001b[0m \u001b[38;5;28;01mdef\u001b[39;00m \u001b[38;5;21mdecorate_context\u001b[39m(\u001b[38;5;241m*\u001b[39margs, \u001b[38;5;241m*\u001b[39m\u001b[38;5;241m*\u001b[39mkwargs):\n\u001b[1;32m    115\u001b[0m     \u001b[38;5;28;01mwith\u001b[39;00m ctx_factory():\n\u001b[0;32m--> 116\u001b[0m         \u001b[38;5;28;01mreturn\u001b[39;00m \u001b[43mfunc\u001b[49m\u001b[43m(\u001b[49m\u001b[38;5;241;43m*\u001b[39;49m\u001b[43margs\u001b[49m\u001b[43m,\u001b[49m\u001b[43m \u001b[49m\u001b[38;5;241;43m*\u001b[39;49m\u001b[38;5;241;43m*\u001b[39;49m\u001b[43mkwargs\u001b[49m\u001b[43m)\u001b[49m\n",
      "File \u001b[0;32m~/.conda/envs/BFCL/lib/python3.10/site-packages/transformers/generation/utils.py:2255\u001b[0m, in \u001b[0;36mGenerationMixin.generate\u001b[0;34m(self, inputs, generation_config, logits_processor, stopping_criteria, prefix_allowed_tokens_fn, synced_gpus, assistant_model, streamer, negative_prompt_ids, negative_prompt_attention_mask, **kwargs)\u001b[0m\n\u001b[1;32m   2247\u001b[0m     input_ids, model_kwargs \u001b[38;5;241m=\u001b[39m \u001b[38;5;28mself\u001b[39m\u001b[38;5;241m.\u001b[39m_expand_inputs_for_generation(\n\u001b[1;32m   2248\u001b[0m         input_ids\u001b[38;5;241m=\u001b[39minput_ids,\n\u001b[1;32m   2249\u001b[0m         expand_size\u001b[38;5;241m=\u001b[39mgeneration_config\u001b[38;5;241m.\u001b[39mnum_return_sequences,\n\u001b[1;32m   2250\u001b[0m         is_encoder_decoder\u001b[38;5;241m=\u001b[39m\u001b[38;5;28mself\u001b[39m\u001b[38;5;241m.\u001b[39mconfig\u001b[38;5;241m.\u001b[39mis_encoder_decoder,\n\u001b[1;32m   2251\u001b[0m         \u001b[38;5;241m*\u001b[39m\u001b[38;5;241m*\u001b[39mmodel_kwargs,\n\u001b[1;32m   2252\u001b[0m     )\n\u001b[1;32m   2254\u001b[0m     \u001b[38;5;66;03m# 12. run sample (it degenerates to greedy search when `generation_config.do_sample=False`)\u001b[39;00m\n\u001b[0;32m-> 2255\u001b[0m     result \u001b[38;5;241m=\u001b[39m \u001b[38;5;28;43mself\u001b[39;49m\u001b[38;5;241;43m.\u001b[39;49m\u001b[43m_sample\u001b[49m\u001b[43m(\u001b[49m\n\u001b[1;32m   2256\u001b[0m \u001b[43m        \u001b[49m\u001b[43minput_ids\u001b[49m\u001b[43m,\u001b[49m\n\u001b[1;32m   2257\u001b[0m \u001b[43m        \u001b[49m\u001b[43mlogits_processor\u001b[49m\u001b[38;5;241;43m=\u001b[39;49m\u001b[43mprepared_logits_processor\u001b[49m\u001b[43m,\u001b[49m\n\u001b[1;32m   2258\u001b[0m \u001b[43m        \u001b[49m\u001b[43mstopping_criteria\u001b[49m\u001b[38;5;241;43m=\u001b[39;49m\u001b[43mprepared_stopping_criteria\u001b[49m\u001b[43m,\u001b[49m\n\u001b[1;32m   2259\u001b[0m \u001b[43m        \u001b[49m\u001b[43mgeneration_config\u001b[49m\u001b[38;5;241;43m=\u001b[39;49m\u001b[43mgeneration_config\u001b[49m\u001b[43m,\u001b[49m\n\u001b[1;32m   2260\u001b[0m \u001b[43m        \u001b[49m\u001b[43msynced_gpus\u001b[49m\u001b[38;5;241;43m=\u001b[39;49m\u001b[43msynced_gpus\u001b[49m\u001b[43m,\u001b[49m\n\u001b[1;32m   2261\u001b[0m \u001b[43m        \u001b[49m\u001b[43mstreamer\u001b[49m\u001b[38;5;241;43m=\u001b[39;49m\u001b[43mstreamer\u001b[49m\u001b[43m,\u001b[49m\n\u001b[1;32m   2262\u001b[0m \u001b[43m        \u001b[49m\u001b[38;5;241;43m*\u001b[39;49m\u001b[38;5;241;43m*\u001b[39;49m\u001b[43mmodel_kwargs\u001b[49m\u001b[43m,\u001b[49m\n\u001b[1;32m   2263\u001b[0m \u001b[43m    \u001b[49m\u001b[43m)\u001b[49m\n\u001b[1;32m   2265\u001b[0m \u001b[38;5;28;01melif\u001b[39;00m generation_mode \u001b[38;5;129;01min\u001b[39;00m (GenerationMode\u001b[38;5;241m.\u001b[39mBEAM_SAMPLE, GenerationMode\u001b[38;5;241m.\u001b[39mBEAM_SEARCH):\n\u001b[1;32m   2266\u001b[0m     \u001b[38;5;66;03m# 11. prepare beam search scorer\u001b[39;00m\n\u001b[1;32m   2267\u001b[0m     beam_scorer \u001b[38;5;241m=\u001b[39m BeamSearchScorer(\n\u001b[1;32m   2268\u001b[0m         batch_size\u001b[38;5;241m=\u001b[39mbatch_size,\n\u001b[1;32m   2269\u001b[0m         num_beams\u001b[38;5;241m=\u001b[39mgeneration_config\u001b[38;5;241m.\u001b[39mnum_beams,\n\u001b[0;32m   (...)\u001b[0m\n\u001b[1;32m   2274\u001b[0m         max_length\u001b[38;5;241m=\u001b[39mgeneration_config\u001b[38;5;241m.\u001b[39mmax_length,\n\u001b[1;32m   2275\u001b[0m     )\n",
      "File \u001b[0;32m~/.conda/envs/BFCL/lib/python3.10/site-packages/transformers/generation/utils.py:3257\u001b[0m, in \u001b[0;36mGenerationMixin._sample\u001b[0;34m(self, input_ids, logits_processor, stopping_criteria, generation_config, synced_gpus, streamer, **model_kwargs)\u001b[0m\n\u001b[1;32m   3255\u001b[0m     is_prefill \u001b[38;5;241m=\u001b[39m \u001b[38;5;28;01mFalse\u001b[39;00m\n\u001b[1;32m   3256\u001b[0m \u001b[38;5;28;01melse\u001b[39;00m:\n\u001b[0;32m-> 3257\u001b[0m     outputs \u001b[38;5;241m=\u001b[39m \u001b[43mmodel_forward\u001b[49m\u001b[43m(\u001b[49m\u001b[38;5;241;43m*\u001b[39;49m\u001b[38;5;241;43m*\u001b[39;49m\u001b[43mmodel_inputs\u001b[49m\u001b[43m,\u001b[49m\u001b[43m \u001b[49m\u001b[43mreturn_dict\u001b[49m\u001b[38;5;241;43m=\u001b[39;49m\u001b[38;5;28;43;01mTrue\u001b[39;49;00m\u001b[43m)\u001b[49m\n\u001b[1;32m   3259\u001b[0m \u001b[38;5;66;03m# synced_gpus: don't waste resources running the code we don't need; kwargs must be updated before skipping\u001b[39;00m\n\u001b[1;32m   3260\u001b[0m model_kwargs \u001b[38;5;241m=\u001b[39m \u001b[38;5;28mself\u001b[39m\u001b[38;5;241m.\u001b[39m_update_model_kwargs_for_generation(\n\u001b[1;32m   3261\u001b[0m     outputs,\n\u001b[1;32m   3262\u001b[0m     model_kwargs,\n\u001b[1;32m   3263\u001b[0m     is_encoder_decoder\u001b[38;5;241m=\u001b[39m\u001b[38;5;28mself\u001b[39m\u001b[38;5;241m.\u001b[39mconfig\u001b[38;5;241m.\u001b[39mis_encoder_decoder,\n\u001b[1;32m   3264\u001b[0m )\n",
      "File \u001b[0;32m~/.conda/envs/BFCL/lib/python3.10/site-packages/torch/nn/modules/module.py:1553\u001b[0m, in \u001b[0;36mModule._wrapped_call_impl\u001b[0;34m(self, *args, **kwargs)\u001b[0m\n\u001b[1;32m   1551\u001b[0m     \u001b[38;5;28;01mreturn\u001b[39;00m \u001b[38;5;28mself\u001b[39m\u001b[38;5;241m.\u001b[39m_compiled_call_impl(\u001b[38;5;241m*\u001b[39margs, \u001b[38;5;241m*\u001b[39m\u001b[38;5;241m*\u001b[39mkwargs)  \u001b[38;5;66;03m# type: ignore[misc]\u001b[39;00m\n\u001b[1;32m   1552\u001b[0m \u001b[38;5;28;01melse\u001b[39;00m:\n\u001b[0;32m-> 1553\u001b[0m     \u001b[38;5;28;01mreturn\u001b[39;00m \u001b[38;5;28;43mself\u001b[39;49m\u001b[38;5;241;43m.\u001b[39;49m\u001b[43m_call_impl\u001b[49m\u001b[43m(\u001b[49m\u001b[38;5;241;43m*\u001b[39;49m\u001b[43margs\u001b[49m\u001b[43m,\u001b[49m\u001b[43m \u001b[49m\u001b[38;5;241;43m*\u001b[39;49m\u001b[38;5;241;43m*\u001b[39;49m\u001b[43mkwargs\u001b[49m\u001b[43m)\u001b[49m\n",
      "File \u001b[0;32m~/.conda/envs/BFCL/lib/python3.10/site-packages/torch/nn/modules/module.py:1562\u001b[0m, in \u001b[0;36mModule._call_impl\u001b[0;34m(self, *args, **kwargs)\u001b[0m\n\u001b[1;32m   1557\u001b[0m \u001b[38;5;66;03m# If we don't have any hooks, we want to skip the rest of the logic in\u001b[39;00m\n\u001b[1;32m   1558\u001b[0m \u001b[38;5;66;03m# this function, and just call forward.\u001b[39;00m\n\u001b[1;32m   1559\u001b[0m \u001b[38;5;28;01mif\u001b[39;00m \u001b[38;5;129;01mnot\u001b[39;00m (\u001b[38;5;28mself\u001b[39m\u001b[38;5;241m.\u001b[39m_backward_hooks \u001b[38;5;129;01mor\u001b[39;00m \u001b[38;5;28mself\u001b[39m\u001b[38;5;241m.\u001b[39m_backward_pre_hooks \u001b[38;5;129;01mor\u001b[39;00m \u001b[38;5;28mself\u001b[39m\u001b[38;5;241m.\u001b[39m_forward_hooks \u001b[38;5;129;01mor\u001b[39;00m \u001b[38;5;28mself\u001b[39m\u001b[38;5;241m.\u001b[39m_forward_pre_hooks\n\u001b[1;32m   1560\u001b[0m         \u001b[38;5;129;01mor\u001b[39;00m _global_backward_pre_hooks \u001b[38;5;129;01mor\u001b[39;00m _global_backward_hooks\n\u001b[1;32m   1561\u001b[0m         \u001b[38;5;129;01mor\u001b[39;00m _global_forward_hooks \u001b[38;5;129;01mor\u001b[39;00m _global_forward_pre_hooks):\n\u001b[0;32m-> 1562\u001b[0m     \u001b[38;5;28;01mreturn\u001b[39;00m \u001b[43mforward_call\u001b[49m\u001b[43m(\u001b[49m\u001b[38;5;241;43m*\u001b[39;49m\u001b[43margs\u001b[49m\u001b[43m,\u001b[49m\u001b[43m \u001b[49m\u001b[38;5;241;43m*\u001b[39;49m\u001b[38;5;241;43m*\u001b[39;49m\u001b[43mkwargs\u001b[49m\u001b[43m)\u001b[49m\n\u001b[1;32m   1564\u001b[0m \u001b[38;5;28;01mtry\u001b[39;00m:\n\u001b[1;32m   1565\u001b[0m     result \u001b[38;5;241m=\u001b[39m \u001b[38;5;28;01mNone\u001b[39;00m\n",
      "File \u001b[0;32m~/.conda/envs/BFCL/lib/python3.10/site-packages/accelerate/hooks.py:170\u001b[0m, in \u001b[0;36madd_hook_to_module.<locals>.new_forward\u001b[0;34m(module, *args, **kwargs)\u001b[0m\n\u001b[1;32m    168\u001b[0m         output \u001b[38;5;241m=\u001b[39m module\u001b[38;5;241m.\u001b[39m_old_forward(\u001b[38;5;241m*\u001b[39margs, \u001b[38;5;241m*\u001b[39m\u001b[38;5;241m*\u001b[39mkwargs)\n\u001b[1;32m    169\u001b[0m \u001b[38;5;28;01melse\u001b[39;00m:\n\u001b[0;32m--> 170\u001b[0m     output \u001b[38;5;241m=\u001b[39m \u001b[43mmodule\u001b[49m\u001b[38;5;241;43m.\u001b[39;49m\u001b[43m_old_forward\u001b[49m\u001b[43m(\u001b[49m\u001b[38;5;241;43m*\u001b[39;49m\u001b[43margs\u001b[49m\u001b[43m,\u001b[49m\u001b[43m \u001b[49m\u001b[38;5;241;43m*\u001b[39;49m\u001b[38;5;241;43m*\u001b[39;49m\u001b[43mkwargs\u001b[49m\u001b[43m)\u001b[49m\n\u001b[1;32m    171\u001b[0m \u001b[38;5;28;01mreturn\u001b[39;00m module\u001b[38;5;241m.\u001b[39m_hf_hook\u001b[38;5;241m.\u001b[39mpost_forward(module, output)\n",
      "File \u001b[0;32m~/.conda/envs/BFCL/lib/python3.10/site-packages/transformers/models/llama/modeling_llama.py:831\u001b[0m, in \u001b[0;36mLlamaForCausalLM.forward\u001b[0;34m(self, input_ids, attention_mask, position_ids, past_key_values, inputs_embeds, labels, use_cache, output_attentions, output_hidden_states, return_dict, cache_position, num_logits_to_keep, **kwargs)\u001b[0m\n\u001b[1;32m    828\u001b[0m return_dict \u001b[38;5;241m=\u001b[39m return_dict \u001b[38;5;28;01mif\u001b[39;00m return_dict \u001b[38;5;129;01mis\u001b[39;00m \u001b[38;5;129;01mnot\u001b[39;00m \u001b[38;5;28;01mNone\u001b[39;00m \u001b[38;5;28;01melse\u001b[39;00m \u001b[38;5;28mself\u001b[39m\u001b[38;5;241m.\u001b[39mconfig\u001b[38;5;241m.\u001b[39muse_return_dict\n\u001b[1;32m    830\u001b[0m \u001b[38;5;66;03m# decoder outputs consists of (dec_features, layer_state, dec_hidden, dec_attn)\u001b[39;00m\n\u001b[0;32m--> 831\u001b[0m outputs \u001b[38;5;241m=\u001b[39m \u001b[38;5;28;43mself\u001b[39;49m\u001b[38;5;241;43m.\u001b[39;49m\u001b[43mmodel\u001b[49m\u001b[43m(\u001b[49m\n\u001b[1;32m    832\u001b[0m \u001b[43m    \u001b[49m\u001b[43minput_ids\u001b[49m\u001b[38;5;241;43m=\u001b[39;49m\u001b[43minput_ids\u001b[49m\u001b[43m,\u001b[49m\n\u001b[1;32m    833\u001b[0m \u001b[43m    \u001b[49m\u001b[43mattention_mask\u001b[49m\u001b[38;5;241;43m=\u001b[39;49m\u001b[43mattention_mask\u001b[49m\u001b[43m,\u001b[49m\n\u001b[1;32m    834\u001b[0m \u001b[43m    \u001b[49m\u001b[43mposition_ids\u001b[49m\u001b[38;5;241;43m=\u001b[39;49m\u001b[43mposition_ids\u001b[49m\u001b[43m,\u001b[49m\n\u001b[1;32m    835\u001b[0m \u001b[43m    \u001b[49m\u001b[43mpast_key_values\u001b[49m\u001b[38;5;241;43m=\u001b[39;49m\u001b[43mpast_key_values\u001b[49m\u001b[43m,\u001b[49m\n\u001b[1;32m    836\u001b[0m \u001b[43m    \u001b[49m\u001b[43minputs_embeds\u001b[49m\u001b[38;5;241;43m=\u001b[39;49m\u001b[43minputs_embeds\u001b[49m\u001b[43m,\u001b[49m\n\u001b[1;32m    837\u001b[0m \u001b[43m    \u001b[49m\u001b[43muse_cache\u001b[49m\u001b[38;5;241;43m=\u001b[39;49m\u001b[43muse_cache\u001b[49m\u001b[43m,\u001b[49m\n\u001b[1;32m    838\u001b[0m \u001b[43m    \u001b[49m\u001b[43moutput_attentions\u001b[49m\u001b[38;5;241;43m=\u001b[39;49m\u001b[43moutput_attentions\u001b[49m\u001b[43m,\u001b[49m\n\u001b[1;32m    839\u001b[0m \u001b[43m    \u001b[49m\u001b[43moutput_hidden_states\u001b[49m\u001b[38;5;241;43m=\u001b[39;49m\u001b[43moutput_hidden_states\u001b[49m\u001b[43m,\u001b[49m\n\u001b[1;32m    840\u001b[0m \u001b[43m    \u001b[49m\u001b[43mreturn_dict\u001b[49m\u001b[38;5;241;43m=\u001b[39;49m\u001b[43mreturn_dict\u001b[49m\u001b[43m,\u001b[49m\n\u001b[1;32m    841\u001b[0m \u001b[43m    \u001b[49m\u001b[43mcache_position\u001b[49m\u001b[38;5;241;43m=\u001b[39;49m\u001b[43mcache_position\u001b[49m\u001b[43m,\u001b[49m\n\u001b[1;32m    842\u001b[0m \u001b[43m    \u001b[49m\u001b[38;5;241;43m*\u001b[39;49m\u001b[38;5;241;43m*\u001b[39;49m\u001b[43mkwargs\u001b[49m\u001b[43m,\u001b[49m\n\u001b[1;32m    843\u001b[0m \u001b[43m\u001b[49m\u001b[43m)\u001b[49m\n\u001b[1;32m    845\u001b[0m hidden_states \u001b[38;5;241m=\u001b[39m outputs[\u001b[38;5;241m0\u001b[39m]\n\u001b[1;32m    846\u001b[0m \u001b[38;5;66;03m# Only compute necessary logits, and do not upcast them to float if we are not computing the loss\u001b[39;00m\n",
      "File \u001b[0;32m~/.conda/envs/BFCL/lib/python3.10/site-packages/torch/nn/modules/module.py:1553\u001b[0m, in \u001b[0;36mModule._wrapped_call_impl\u001b[0;34m(self, *args, **kwargs)\u001b[0m\n\u001b[1;32m   1551\u001b[0m     \u001b[38;5;28;01mreturn\u001b[39;00m \u001b[38;5;28mself\u001b[39m\u001b[38;5;241m.\u001b[39m_compiled_call_impl(\u001b[38;5;241m*\u001b[39margs, \u001b[38;5;241m*\u001b[39m\u001b[38;5;241m*\u001b[39mkwargs)  \u001b[38;5;66;03m# type: ignore[misc]\u001b[39;00m\n\u001b[1;32m   1552\u001b[0m \u001b[38;5;28;01melse\u001b[39;00m:\n\u001b[0;32m-> 1553\u001b[0m     \u001b[38;5;28;01mreturn\u001b[39;00m \u001b[38;5;28;43mself\u001b[39;49m\u001b[38;5;241;43m.\u001b[39;49m\u001b[43m_call_impl\u001b[49m\u001b[43m(\u001b[49m\u001b[38;5;241;43m*\u001b[39;49m\u001b[43margs\u001b[49m\u001b[43m,\u001b[49m\u001b[43m \u001b[49m\u001b[38;5;241;43m*\u001b[39;49m\u001b[38;5;241;43m*\u001b[39;49m\u001b[43mkwargs\u001b[49m\u001b[43m)\u001b[49m\n",
      "File \u001b[0;32m~/.conda/envs/BFCL/lib/python3.10/site-packages/torch/nn/modules/module.py:1562\u001b[0m, in \u001b[0;36mModule._call_impl\u001b[0;34m(self, *args, **kwargs)\u001b[0m\n\u001b[1;32m   1557\u001b[0m \u001b[38;5;66;03m# If we don't have any hooks, we want to skip the rest of the logic in\u001b[39;00m\n\u001b[1;32m   1558\u001b[0m \u001b[38;5;66;03m# this function, and just call forward.\u001b[39;00m\n\u001b[1;32m   1559\u001b[0m \u001b[38;5;28;01mif\u001b[39;00m \u001b[38;5;129;01mnot\u001b[39;00m (\u001b[38;5;28mself\u001b[39m\u001b[38;5;241m.\u001b[39m_backward_hooks \u001b[38;5;129;01mor\u001b[39;00m \u001b[38;5;28mself\u001b[39m\u001b[38;5;241m.\u001b[39m_backward_pre_hooks \u001b[38;5;129;01mor\u001b[39;00m \u001b[38;5;28mself\u001b[39m\u001b[38;5;241m.\u001b[39m_forward_hooks \u001b[38;5;129;01mor\u001b[39;00m \u001b[38;5;28mself\u001b[39m\u001b[38;5;241m.\u001b[39m_forward_pre_hooks\n\u001b[1;32m   1560\u001b[0m         \u001b[38;5;129;01mor\u001b[39;00m _global_backward_pre_hooks \u001b[38;5;129;01mor\u001b[39;00m _global_backward_hooks\n\u001b[1;32m   1561\u001b[0m         \u001b[38;5;129;01mor\u001b[39;00m _global_forward_hooks \u001b[38;5;129;01mor\u001b[39;00m _global_forward_pre_hooks):\n\u001b[0;32m-> 1562\u001b[0m     \u001b[38;5;28;01mreturn\u001b[39;00m \u001b[43mforward_call\u001b[49m\u001b[43m(\u001b[49m\u001b[38;5;241;43m*\u001b[39;49m\u001b[43margs\u001b[49m\u001b[43m,\u001b[49m\u001b[43m \u001b[49m\u001b[38;5;241;43m*\u001b[39;49m\u001b[38;5;241;43m*\u001b[39;49m\u001b[43mkwargs\u001b[49m\u001b[43m)\u001b[49m\n\u001b[1;32m   1564\u001b[0m \u001b[38;5;28;01mtry\u001b[39;00m:\n\u001b[1;32m   1565\u001b[0m     result \u001b[38;5;241m=\u001b[39m \u001b[38;5;28;01mNone\u001b[39;00m\n",
      "File \u001b[0;32m~/.conda/envs/BFCL/lib/python3.10/site-packages/transformers/models/llama/modeling_llama.py:589\u001b[0m, in \u001b[0;36mLlamaModel.forward\u001b[0;34m(self, input_ids, attention_mask, position_ids, past_key_values, inputs_embeds, use_cache, output_attentions, output_hidden_states, return_dict, cache_position, **flash_attn_kwargs)\u001b[0m\n\u001b[1;32m    577\u001b[0m     layer_outputs \u001b[38;5;241m=\u001b[39m \u001b[38;5;28mself\u001b[39m\u001b[38;5;241m.\u001b[39m_gradient_checkpointing_func(\n\u001b[1;32m    578\u001b[0m         decoder_layer\u001b[38;5;241m.\u001b[39m\u001b[38;5;21m__call__\u001b[39m,\n\u001b[1;32m    579\u001b[0m         hidden_states,\n\u001b[0;32m   (...)\u001b[0m\n\u001b[1;32m    586\u001b[0m         position_embeddings,\n\u001b[1;32m    587\u001b[0m     )\n\u001b[1;32m    588\u001b[0m \u001b[38;5;28;01melse\u001b[39;00m:\n\u001b[0;32m--> 589\u001b[0m     layer_outputs \u001b[38;5;241m=\u001b[39m \u001b[43mdecoder_layer\u001b[49m\u001b[43m(\u001b[49m\n\u001b[1;32m    590\u001b[0m \u001b[43m        \u001b[49m\u001b[43mhidden_states\u001b[49m\u001b[43m,\u001b[49m\n\u001b[1;32m    591\u001b[0m \u001b[43m        \u001b[49m\u001b[43mattention_mask\u001b[49m\u001b[38;5;241;43m=\u001b[39;49m\u001b[43mcausal_mask\u001b[49m\u001b[43m,\u001b[49m\n\u001b[1;32m    592\u001b[0m \u001b[43m        \u001b[49m\u001b[43mposition_ids\u001b[49m\u001b[38;5;241;43m=\u001b[39;49m\u001b[43mposition_ids\u001b[49m\u001b[43m,\u001b[49m\n\u001b[1;32m    593\u001b[0m \u001b[43m        \u001b[49m\u001b[43mpast_key_value\u001b[49m\u001b[38;5;241;43m=\u001b[39;49m\u001b[43mpast_key_values\u001b[49m\u001b[43m,\u001b[49m\n\u001b[1;32m    594\u001b[0m \u001b[43m        \u001b[49m\u001b[43moutput_attentions\u001b[49m\u001b[38;5;241;43m=\u001b[39;49m\u001b[43moutput_attentions\u001b[49m\u001b[43m,\u001b[49m\n\u001b[1;32m    595\u001b[0m \u001b[43m        \u001b[49m\u001b[43muse_cache\u001b[49m\u001b[38;5;241;43m=\u001b[39;49m\u001b[43muse_cache\u001b[49m\u001b[43m,\u001b[49m\n\u001b[1;32m    596\u001b[0m \u001b[43m        \u001b[49m\u001b[43mcache_position\u001b[49m\u001b[38;5;241;43m=\u001b[39;49m\u001b[43mcache_position\u001b[49m\u001b[43m,\u001b[49m\n\u001b[1;32m    597\u001b[0m \u001b[43m        \u001b[49m\u001b[43mposition_embeddings\u001b[49m\u001b[38;5;241;43m=\u001b[39;49m\u001b[43mposition_embeddings\u001b[49m\u001b[43m,\u001b[49m\n\u001b[1;32m    598\u001b[0m \u001b[43m        \u001b[49m\u001b[38;5;241;43m*\u001b[39;49m\u001b[38;5;241;43m*\u001b[39;49m\u001b[43mflash_attn_kwargs\u001b[49m\u001b[43m,\u001b[49m\n\u001b[1;32m    599\u001b[0m \u001b[43m    \u001b[49m\u001b[43m)\u001b[49m\n\u001b[1;32m    601\u001b[0m hidden_states \u001b[38;5;241m=\u001b[39m layer_outputs[\u001b[38;5;241m0\u001b[39m]\n\u001b[1;32m    603\u001b[0m \u001b[38;5;28;01mif\u001b[39;00m output_attentions:\n",
      "File \u001b[0;32m~/.conda/envs/BFCL/lib/python3.10/site-packages/torch/nn/modules/module.py:1553\u001b[0m, in \u001b[0;36mModule._wrapped_call_impl\u001b[0;34m(self, *args, **kwargs)\u001b[0m\n\u001b[1;32m   1551\u001b[0m     \u001b[38;5;28;01mreturn\u001b[39;00m \u001b[38;5;28mself\u001b[39m\u001b[38;5;241m.\u001b[39m_compiled_call_impl(\u001b[38;5;241m*\u001b[39margs, \u001b[38;5;241m*\u001b[39m\u001b[38;5;241m*\u001b[39mkwargs)  \u001b[38;5;66;03m# type: ignore[misc]\u001b[39;00m\n\u001b[1;32m   1552\u001b[0m \u001b[38;5;28;01melse\u001b[39;00m:\n\u001b[0;32m-> 1553\u001b[0m     \u001b[38;5;28;01mreturn\u001b[39;00m \u001b[38;5;28;43mself\u001b[39;49m\u001b[38;5;241;43m.\u001b[39;49m\u001b[43m_call_impl\u001b[49m\u001b[43m(\u001b[49m\u001b[38;5;241;43m*\u001b[39;49m\u001b[43margs\u001b[49m\u001b[43m,\u001b[49m\u001b[43m \u001b[49m\u001b[38;5;241;43m*\u001b[39;49m\u001b[38;5;241;43m*\u001b[39;49m\u001b[43mkwargs\u001b[49m\u001b[43m)\u001b[49m\n",
      "File \u001b[0;32m~/.conda/envs/BFCL/lib/python3.10/site-packages/torch/nn/modules/module.py:1562\u001b[0m, in \u001b[0;36mModule._call_impl\u001b[0;34m(self, *args, **kwargs)\u001b[0m\n\u001b[1;32m   1557\u001b[0m \u001b[38;5;66;03m# If we don't have any hooks, we want to skip the rest of the logic in\u001b[39;00m\n\u001b[1;32m   1558\u001b[0m \u001b[38;5;66;03m# this function, and just call forward.\u001b[39;00m\n\u001b[1;32m   1559\u001b[0m \u001b[38;5;28;01mif\u001b[39;00m \u001b[38;5;129;01mnot\u001b[39;00m (\u001b[38;5;28mself\u001b[39m\u001b[38;5;241m.\u001b[39m_backward_hooks \u001b[38;5;129;01mor\u001b[39;00m \u001b[38;5;28mself\u001b[39m\u001b[38;5;241m.\u001b[39m_backward_pre_hooks \u001b[38;5;129;01mor\u001b[39;00m \u001b[38;5;28mself\u001b[39m\u001b[38;5;241m.\u001b[39m_forward_hooks \u001b[38;5;129;01mor\u001b[39;00m \u001b[38;5;28mself\u001b[39m\u001b[38;5;241m.\u001b[39m_forward_pre_hooks\n\u001b[1;32m   1560\u001b[0m         \u001b[38;5;129;01mor\u001b[39;00m _global_backward_pre_hooks \u001b[38;5;129;01mor\u001b[39;00m _global_backward_hooks\n\u001b[1;32m   1561\u001b[0m         \u001b[38;5;129;01mor\u001b[39;00m _global_forward_hooks \u001b[38;5;129;01mor\u001b[39;00m _global_forward_pre_hooks):\n\u001b[0;32m-> 1562\u001b[0m     \u001b[38;5;28;01mreturn\u001b[39;00m \u001b[43mforward_call\u001b[49m\u001b[43m(\u001b[49m\u001b[38;5;241;43m*\u001b[39;49m\u001b[43margs\u001b[49m\u001b[43m,\u001b[49m\u001b[43m \u001b[49m\u001b[38;5;241;43m*\u001b[39;49m\u001b[38;5;241;43m*\u001b[39;49m\u001b[43mkwargs\u001b[49m\u001b[43m)\u001b[49m\n\u001b[1;32m   1564\u001b[0m \u001b[38;5;28;01mtry\u001b[39;00m:\n\u001b[1;32m   1565\u001b[0m     result \u001b[38;5;241m=\u001b[39m \u001b[38;5;28;01mNone\u001b[39;00m\n",
      "File \u001b[0;32m~/.conda/envs/BFCL/lib/python3.10/site-packages/accelerate/hooks.py:170\u001b[0m, in \u001b[0;36madd_hook_to_module.<locals>.new_forward\u001b[0;34m(module, *args, **kwargs)\u001b[0m\n\u001b[1;32m    168\u001b[0m         output \u001b[38;5;241m=\u001b[39m module\u001b[38;5;241m.\u001b[39m_old_forward(\u001b[38;5;241m*\u001b[39margs, \u001b[38;5;241m*\u001b[39m\u001b[38;5;241m*\u001b[39mkwargs)\n\u001b[1;32m    169\u001b[0m \u001b[38;5;28;01melse\u001b[39;00m:\n\u001b[0;32m--> 170\u001b[0m     output \u001b[38;5;241m=\u001b[39m \u001b[43mmodule\u001b[49m\u001b[38;5;241;43m.\u001b[39;49m\u001b[43m_old_forward\u001b[49m\u001b[43m(\u001b[49m\u001b[38;5;241;43m*\u001b[39;49m\u001b[43margs\u001b[49m\u001b[43m,\u001b[49m\u001b[43m \u001b[49m\u001b[38;5;241;43m*\u001b[39;49m\u001b[38;5;241;43m*\u001b[39;49m\u001b[43mkwargs\u001b[49m\u001b[43m)\u001b[49m\n\u001b[1;32m    171\u001b[0m \u001b[38;5;28;01mreturn\u001b[39;00m module\u001b[38;5;241m.\u001b[39m_hf_hook\u001b[38;5;241m.\u001b[39mpost_forward(module, output)\n",
      "File \u001b[0;32m~/.conda/envs/BFCL/lib/python3.10/site-packages/transformers/models/llama/modeling_llama.py:332\u001b[0m, in \u001b[0;36mLlamaDecoderLayer.forward\u001b[0;34m(self, hidden_states, attention_mask, position_ids, past_key_value, output_attentions, use_cache, cache_position, position_embeddings, **kwargs)\u001b[0m\n\u001b[1;32m    329\u001b[0m hidden_states \u001b[38;5;241m=\u001b[39m \u001b[38;5;28mself\u001b[39m\u001b[38;5;241m.\u001b[39minput_layernorm(hidden_states)\n\u001b[1;32m    331\u001b[0m \u001b[38;5;66;03m# Self Attention\u001b[39;00m\n\u001b[0;32m--> 332\u001b[0m hidden_states, self_attn_weights \u001b[38;5;241m=\u001b[39m \u001b[38;5;28;43mself\u001b[39;49m\u001b[38;5;241;43m.\u001b[39;49m\u001b[43mself_attn\u001b[49m\u001b[43m(\u001b[49m\n\u001b[1;32m    333\u001b[0m \u001b[43m    \u001b[49m\u001b[43mhidden_states\u001b[49m\u001b[38;5;241;43m=\u001b[39;49m\u001b[43mhidden_states\u001b[49m\u001b[43m,\u001b[49m\n\u001b[1;32m    334\u001b[0m \u001b[43m    \u001b[49m\u001b[43mattention_mask\u001b[49m\u001b[38;5;241;43m=\u001b[39;49m\u001b[43mattention_mask\u001b[49m\u001b[43m,\u001b[49m\n\u001b[1;32m    335\u001b[0m \u001b[43m    \u001b[49m\u001b[43mposition_ids\u001b[49m\u001b[38;5;241;43m=\u001b[39;49m\u001b[43mposition_ids\u001b[49m\u001b[43m,\u001b[49m\n\u001b[1;32m    336\u001b[0m \u001b[43m    \u001b[49m\u001b[43mpast_key_value\u001b[49m\u001b[38;5;241;43m=\u001b[39;49m\u001b[43mpast_key_value\u001b[49m\u001b[43m,\u001b[49m\n\u001b[1;32m    337\u001b[0m \u001b[43m    \u001b[49m\u001b[43moutput_attentions\u001b[49m\u001b[38;5;241;43m=\u001b[39;49m\u001b[43moutput_attentions\u001b[49m\u001b[43m,\u001b[49m\n\u001b[1;32m    338\u001b[0m \u001b[43m    \u001b[49m\u001b[43muse_cache\u001b[49m\u001b[38;5;241;43m=\u001b[39;49m\u001b[43muse_cache\u001b[49m\u001b[43m,\u001b[49m\n\u001b[1;32m    339\u001b[0m \u001b[43m    \u001b[49m\u001b[43mcache_position\u001b[49m\u001b[38;5;241;43m=\u001b[39;49m\u001b[43mcache_position\u001b[49m\u001b[43m,\u001b[49m\n\u001b[1;32m    340\u001b[0m \u001b[43m    \u001b[49m\u001b[43mposition_embeddings\u001b[49m\u001b[38;5;241;43m=\u001b[39;49m\u001b[43mposition_embeddings\u001b[49m\u001b[43m,\u001b[49m\n\u001b[1;32m    341\u001b[0m \u001b[43m    \u001b[49m\u001b[38;5;241;43m*\u001b[39;49m\u001b[38;5;241;43m*\u001b[39;49m\u001b[43mkwargs\u001b[49m\u001b[43m,\u001b[49m\n\u001b[1;32m    342\u001b[0m \u001b[43m\u001b[49m\u001b[43m)\u001b[49m\n\u001b[1;32m    343\u001b[0m hidden_states \u001b[38;5;241m=\u001b[39m residual \u001b[38;5;241m+\u001b[39m hidden_states\n\u001b[1;32m    345\u001b[0m \u001b[38;5;66;03m# Fully Connected\u001b[39;00m\n",
      "File \u001b[0;32m~/.conda/envs/BFCL/lib/python3.10/site-packages/torch/nn/modules/module.py:1553\u001b[0m, in \u001b[0;36mModule._wrapped_call_impl\u001b[0;34m(self, *args, **kwargs)\u001b[0m\n\u001b[1;32m   1551\u001b[0m     \u001b[38;5;28;01mreturn\u001b[39;00m \u001b[38;5;28mself\u001b[39m\u001b[38;5;241m.\u001b[39m_compiled_call_impl(\u001b[38;5;241m*\u001b[39margs, \u001b[38;5;241m*\u001b[39m\u001b[38;5;241m*\u001b[39mkwargs)  \u001b[38;5;66;03m# type: ignore[misc]\u001b[39;00m\n\u001b[1;32m   1552\u001b[0m \u001b[38;5;28;01melse\u001b[39;00m:\n\u001b[0;32m-> 1553\u001b[0m     \u001b[38;5;28;01mreturn\u001b[39;00m \u001b[38;5;28;43mself\u001b[39;49m\u001b[38;5;241;43m.\u001b[39;49m\u001b[43m_call_impl\u001b[49m\u001b[43m(\u001b[49m\u001b[38;5;241;43m*\u001b[39;49m\u001b[43margs\u001b[49m\u001b[43m,\u001b[49m\u001b[43m \u001b[49m\u001b[38;5;241;43m*\u001b[39;49m\u001b[38;5;241;43m*\u001b[39;49m\u001b[43mkwargs\u001b[49m\u001b[43m)\u001b[49m\n",
      "File \u001b[0;32m~/.conda/envs/BFCL/lib/python3.10/site-packages/torch/nn/modules/module.py:1562\u001b[0m, in \u001b[0;36mModule._call_impl\u001b[0;34m(self, *args, **kwargs)\u001b[0m\n\u001b[1;32m   1557\u001b[0m \u001b[38;5;66;03m# If we don't have any hooks, we want to skip the rest of the logic in\u001b[39;00m\n\u001b[1;32m   1558\u001b[0m \u001b[38;5;66;03m# this function, and just call forward.\u001b[39;00m\n\u001b[1;32m   1559\u001b[0m \u001b[38;5;28;01mif\u001b[39;00m \u001b[38;5;129;01mnot\u001b[39;00m (\u001b[38;5;28mself\u001b[39m\u001b[38;5;241m.\u001b[39m_backward_hooks \u001b[38;5;129;01mor\u001b[39;00m \u001b[38;5;28mself\u001b[39m\u001b[38;5;241m.\u001b[39m_backward_pre_hooks \u001b[38;5;129;01mor\u001b[39;00m \u001b[38;5;28mself\u001b[39m\u001b[38;5;241m.\u001b[39m_forward_hooks \u001b[38;5;129;01mor\u001b[39;00m \u001b[38;5;28mself\u001b[39m\u001b[38;5;241m.\u001b[39m_forward_pre_hooks\n\u001b[1;32m   1560\u001b[0m         \u001b[38;5;129;01mor\u001b[39;00m _global_backward_pre_hooks \u001b[38;5;129;01mor\u001b[39;00m _global_backward_hooks\n\u001b[1;32m   1561\u001b[0m         \u001b[38;5;129;01mor\u001b[39;00m _global_forward_hooks \u001b[38;5;129;01mor\u001b[39;00m _global_forward_pre_hooks):\n\u001b[0;32m-> 1562\u001b[0m     \u001b[38;5;28;01mreturn\u001b[39;00m \u001b[43mforward_call\u001b[49m\u001b[43m(\u001b[49m\u001b[38;5;241;43m*\u001b[39;49m\u001b[43margs\u001b[49m\u001b[43m,\u001b[49m\u001b[43m \u001b[49m\u001b[38;5;241;43m*\u001b[39;49m\u001b[38;5;241;43m*\u001b[39;49m\u001b[43mkwargs\u001b[49m\u001b[43m)\u001b[49m\n\u001b[1;32m   1564\u001b[0m \u001b[38;5;28;01mtry\u001b[39;00m:\n\u001b[1;32m   1565\u001b[0m     result \u001b[38;5;241m=\u001b[39m \u001b[38;5;28;01mNone\u001b[39;00m\n",
      "File \u001b[0;32m~/.conda/envs/BFCL/lib/python3.10/site-packages/accelerate/hooks.py:170\u001b[0m, in \u001b[0;36madd_hook_to_module.<locals>.new_forward\u001b[0;34m(module, *args, **kwargs)\u001b[0m\n\u001b[1;32m    168\u001b[0m         output \u001b[38;5;241m=\u001b[39m module\u001b[38;5;241m.\u001b[39m_old_forward(\u001b[38;5;241m*\u001b[39margs, \u001b[38;5;241m*\u001b[39m\u001b[38;5;241m*\u001b[39mkwargs)\n\u001b[1;32m    169\u001b[0m \u001b[38;5;28;01melse\u001b[39;00m:\n\u001b[0;32m--> 170\u001b[0m     output \u001b[38;5;241m=\u001b[39m \u001b[43mmodule\u001b[49m\u001b[38;5;241;43m.\u001b[39;49m\u001b[43m_old_forward\u001b[49m\u001b[43m(\u001b[49m\u001b[38;5;241;43m*\u001b[39;49m\u001b[43margs\u001b[49m\u001b[43m,\u001b[49m\u001b[43m \u001b[49m\u001b[38;5;241;43m*\u001b[39;49m\u001b[38;5;241;43m*\u001b[39;49m\u001b[43mkwargs\u001b[49m\u001b[43m)\u001b[49m\n\u001b[1;32m    171\u001b[0m \u001b[38;5;28;01mreturn\u001b[39;00m module\u001b[38;5;241m.\u001b[39m_hf_hook\u001b[38;5;241m.\u001b[39mpost_forward(module, output)\n",
      "File \u001b[0;32m~/.conda/envs/BFCL/lib/python3.10/site-packages/transformers/models/llama/modeling_llama.py:266\u001b[0m, in \u001b[0;36mLlamaAttention.forward\u001b[0;34m(self, hidden_states, position_embeddings, attention_mask, past_key_value, cache_position, **kwargs)\u001b[0m\n\u001b[1;32m    263\u001b[0m input_shape \u001b[38;5;241m=\u001b[39m hidden_states\u001b[38;5;241m.\u001b[39mshape[:\u001b[38;5;241m-\u001b[39m\u001b[38;5;241m1\u001b[39m]\n\u001b[1;32m    264\u001b[0m hidden_shape \u001b[38;5;241m=\u001b[39m (\u001b[38;5;241m*\u001b[39minput_shape, \u001b[38;5;241m-\u001b[39m\u001b[38;5;241m1\u001b[39m, \u001b[38;5;28mself\u001b[39m\u001b[38;5;241m.\u001b[39mhead_dim)\n\u001b[0;32m--> 266\u001b[0m query_states \u001b[38;5;241m=\u001b[39m \u001b[38;5;28;43mself\u001b[39;49m\u001b[38;5;241;43m.\u001b[39;49m\u001b[43mq_proj\u001b[49m\u001b[43m(\u001b[49m\u001b[43mhidden_states\u001b[49m\u001b[43m)\u001b[49m\u001b[38;5;241;43m.\u001b[39;49m\u001b[43mview\u001b[49m\u001b[43m(\u001b[49m\u001b[43mhidden_shape\u001b[49m\u001b[43m)\u001b[49m\u001b[38;5;241;43m.\u001b[39;49m\u001b[43mtranspose\u001b[49m\u001b[43m(\u001b[49m\u001b[38;5;241;43m1\u001b[39;49m\u001b[43m,\u001b[49m\u001b[43m \u001b[49m\u001b[38;5;241;43m2\u001b[39;49m\u001b[43m)\u001b[49m\n\u001b[1;32m    267\u001b[0m key_states \u001b[38;5;241m=\u001b[39m \u001b[38;5;28mself\u001b[39m\u001b[38;5;241m.\u001b[39mk_proj(hidden_states)\u001b[38;5;241m.\u001b[39mview(hidden_shape)\u001b[38;5;241m.\u001b[39mtranspose(\u001b[38;5;241m1\u001b[39m, \u001b[38;5;241m2\u001b[39m)\n\u001b[1;32m    268\u001b[0m value_states \u001b[38;5;241m=\u001b[39m \u001b[38;5;28mself\u001b[39m\u001b[38;5;241m.\u001b[39mv_proj(hidden_states)\u001b[38;5;241m.\u001b[39mview(hidden_shape)\u001b[38;5;241m.\u001b[39mtranspose(\u001b[38;5;241m1\u001b[39m, \u001b[38;5;241m2\u001b[39m)\n",
      "\u001b[0;31mKeyboardInterrupt\u001b[0m: "
     ]
    }
   ],
   "source": [
    "transformed_examples = []\n",
    "\n",
    "# Iterate through dataset\n",
    "for example in tqdm(new_dataset[23]['conversations']):\n",
    "    messages = [\n",
    "    {\"role\": \"system\", \"content\": SYSTEM_PROMPT},\n",
    "    {\"role\": \"user\", \"content\": f\"{example}\"},]\n",
    "    outputs = pipeline(\n",
    "    messages,\n",
    "    max_new_tokens=128000)\n",
    "    \n",
    "    # Get response using your method\n",
    "    response = outputs[0][\"generated_text\"][-1]['content']\n",
    "    print(response)\n",
    "    #"
   ]
  },
  {
   "cell_type": "code",
   "execution_count": 32,
   "id": "ac2f6838-1b72-47f1-b7ce-dfd6859ada56",
   "metadata": {},
   "outputs": [
    {
     "name": "stdout",
     "output_type": "stream",
     "text": [
      "[{'from':'system', 'value': 'You are an expert in composing functions. You are given a question and a set of possible functions. \\nBased on the question, you will need to make one or more function/tool calls to achieve the purpose. \\nIf none of the function can be used, point it out. If the given question lacks the parameters required by the function,\\nalso point it out. You should only return the function call in tools call sections.\\nHere is a list of functions in JSON format that you can invoke:\\n[{\"name\": \"Stalled Pattern Indicator\", \"description\": \"Retrieve stalled pattern indicators for a specific cryptocurrency symbol.\", \"parameters\": {\"type\": \"dict\", \"properties\": {\"interval\": {\"description\": \"Time interval for the data (e.g., 1m, 5m, 15m, etc.)\", \"type\": \"string\"}, \"exchange\": {\"description\": \"Exchange to retrieve data from (e.g., binance, kraken, etc.)\", \"type\": \"string\"}, \"symbol\": {\"description\": \"Cryptocurrency symbol to retrieve data for (e.g., btcusdt, ethusdt, etc.)\", \"type\": \"string\"}, \"market\": {\"description\": \"Market type (spot, usdt-perpetual, inverse-perpetual) to retrieve data for\", \"type\": \"string\"}}, \"required\": [\"interval\", \"exchange\", \"symbol\", \"market\"]}, \"required\": null}, {\"name\": \"Search News\", \"description\": \"Search for news articles by keyword or phrase\", \"parameters\": {\"type\": \"dict\", \"properties\": {\"keyword\": {\"description\": \"The keyword or phrase to search for\", \"type\": \"string\"}, \"pageIndex\": {\"description\": \"The page index for pagination\", \"type\": \"int\"}, \"pageSize\": {\"description\": \"The number of results per page for pagination\", \"type\": \"int\"}}, \"required\": [\"keyword\"]}, \"required\": null}, {\"name\": \"CurrencyConversion\", \"description\": \"The CurrencyConversion API allows developers to convert currencies in real-time. It provides accurate and up-to-string exchange rates, enabling users to make informed financial decisions.\", \"parameters\": {\"type\": \"dict\", \"properties\": {\"amount\": {\"description\": \"The value of the amount to be converted\", \"type\": \"float\"}, \"from\": {\"description\": \"The currency to convert from\", \"type\": \"string\"}, \"to\": {\"description\": \"The currency to convert to\", \"type\": \"string\"}, \"string\": {\"description\": \"The string for which to retrieve exchange rates\", \"type\": \"string\", \"default\": \"\"}}, \"required\": [\"amount\", \"from\", \"to\"]}, \"required\": null}, {\"name\": \"Get Net Income\", \"description\": \"Retrieve the net income of a specified stock\", \"parameters\": {\"type\": \"dict\", \"properties\": {\"symbol\": {\"description\": \"Ticker Symbol (Ex. \\'AAPL\\' is Ticker symbol for Apple Inc. on the stock market)\", \"type\": \"string\"}, \"region\": {\"description\": \"One of the following regions: US, BR, AU, CA, FR, DE, HK, IN, IT, ES, GB, S\", \"type\": \"string\", \"default\": \"US\"}}, \"required\": [\"symbol\"]}, \"required\": null}, {\"name\": \"Symbols Sec Filings\", \"description\": \"Retrieve a list of SEC filings for a given stock symbol.\", \"parameters\": {\"type\": \"dict\", \"properties\": {\"ticker_slug\": {\"description\": \"The ticker symbol of the stock\", \"type\": \"string\"}, \"page_number\": {\"description\": \"The page number of the SEC filings to retrieve\", \"type\": \"int\"}, \"category\": {\"description\": \"The category of SEC filings to filter by (e.g. \\'all\\', \\'10-K\\', \\'10-Q\\', etc.)\", \"type\": \"string\"}}, \"required\": [\"ticker_slug\", \"page_number\"]}, \"required\": null}]. \\nShould you decide to return the function call(s). \\nPut it in the format of [func1(params_name=params_value, params_name2=params_value2...), func2(params)]\\n\\nNO other text MUST be included. \\n'}, {'from': 'user', 'value': 'Can you tell me the net income of Apple Inc?'}, {'from': 'assistant', 'value': 'To find the net income of Apple Inc., I need to use the Get Net Income function. This function requires a symbol parameter, which in this case is \"AAPL\" for Apple Inc. Since the region parameter is optional and defaults to \"US\", I will not specify it. Therefore, the function call will be [Get Net Income(symbol=\"AAPL\")].'}, {'from': 'tool', 'value': '[{\"name\": \"Get Net Income\", \"results\": {\"net_income\": 57411000000, \"region\": \"US\"}}]'}, {'from': 'assistant', 'value': 'The net income of Apple Inc. (AAPL) is $57,411,000,000 for the specified period in the US region.'}, {'from': 'user', 'value': \"Wow, that's quite a sum! It seems like these tech giants always rake in the big bucks.\"}, {'from': 'assistant', 'value': 'Yes, indeed. Major technology companies like Apple Inc. often report high net income due to their vast global footprint and diverse product offerings. Is there anything else you would like to know?'}, {'from': 'user', 'value': 'Can you retrieve the stalled pattern indicators for Bitcoin on Binance with a 15-minute interval for the spot market?'}, {'from': 'assistant', 'value': 'To retrieve the stalled pattern indicators for Bitcoin on Binance, I need to use the Stalled Pattern Indicator function. This function requires the interval, exchange, symbol, and market parameters. The interval is given as 15 minutes, the exchange is Binance, the symbol for Bitcoin on Binance is \"btcusdt\", and the market is the spot market. Therefore, I will call the function with these parameters: [Stalled Pattern Indicator(interval=\"15m\", exchange=\"binance\", symbol=\"btcusdt\", market=\"spot\")].'}]\n"
     ]
    }
   ],
   "source": [
    "transformed_examples = []\n",
    "\n",
    "# Iterate through dataset\n",
    "#for example in tqdm(new_dataset[23]['conversations']):\n",
    "messages = [\n",
    "{\"role\": \"system\", \"content\": SYSTEM_PROMPT},\n",
    "{\"role\": \"user\", \"content\": f\"{new_dataset[45]['conversations']}\"},]\n",
    "outputs = pipeline(\n",
    "messages,\n",
    "max_new_tokens=128000)\n",
    "\n",
    "# Get response using your method\n",
    "response = outputs[0][\"generated_text\"][-1]['content']\n",
    "print(response)\n",
    "    #"
   ]
  },
  {
   "cell_type": "code",
   "execution_count": 34,
   "id": "45d34932-77d3-41d0-aa45-8915b743fcb8",
   "metadata": {},
   "outputs": [
    {
     "data": {
      "text/plain": [
       "Dataset({\n",
       "    features: ['id', 'conversations'],\n",
       "    num_rows: 11300\n",
       "})"
      ]
     },
     "execution_count": 34,
     "metadata": {},
     "output_type": "execute_result"
    }
   ],
   "source": [
    "new_dataset"
   ]
  },
  {
   "cell_type": "code",
   "execution_count": 28,
   "id": "f71e5cfa-af9b-4f29-9352-61f5dcddde8c",
   "metadata": {},
   "outputs": [],
   "source": [
    "from datasets import load_from_disk"
   ]
  },
  {
   "cell_type": "code",
   "execution_count": 29,
   "id": "5b9cb3b2-0673-481c-a21c-2fec137d4a69",
   "metadata": {},
   "outputs": [],
   "source": [
    "d = load_from_disk(\"transformed_toolace\")"
   ]
  },
  {
   "cell_type": "code",
   "execution_count": 33,
   "id": "dc13cc89-127c-4a53-adc3-098c9cdb71c5",
   "metadata": {},
   "outputs": [
    {
     "data": {
      "text/plain": [
       "Dataset({\n",
       "    features: ['id', 'conversations'],\n",
       "    num_rows: 2000\n",
       "})"
      ]
     },
     "execution_count": 33,
     "metadata": {},
     "output_type": "execute_result"
    }
   ],
   "source": [
    "d.select(range(5000,7000))"
   ]
  },
  {
   "cell_type": "code",
   "execution_count": 27,
   "id": "fa1f21b2-0582-45e3-a957-bea687914f60",
   "metadata": {},
   "outputs": [
    {
     "data": {
      "text/plain": [
       "{'id': '8dff4c65-d3b6-4a54-ba0d-a63d689b60ef',\n",
       " 'conversations': [{'from': 'system',\n",
       "   'value': 'You are an expert in composing functions. You are given a question and a set of possible functions. \\nBased on the question, you will need to make one or more function/tool calls to achieve the purpose. \\nIf none of the function can be used, point it out. If the given question lacks the parameters required by the function,\\nalso point it out. You should only return the function call in tools call sections.\\nHere is a list of functions in JSON format that you can invoke:\\n[{\"name\": \"Trending Videos\", \"description\": \"Retrieves a list of trending videos from YouTube, filtered by locale, country, and type.\", \"parameters\": {\"type\": \"dict\", \"properties\": {\"hl\": {\"description\": \"Locale/language for the request\", \"type\": \"string\", \"default\": \"en\"}, \"gl\": {\"description\": \"Country to get trending videos from\", \"type\": \"string\", \"default\": \"US\"}, \"type\": {\"description\": \"Type of trending videos\", \"type\": \"string\", \"default\": \"mu\"}}, \"required\": []}, \"required\": null}, {\"name\": \"Get All Characters\", \"description\": \"Retrieve a list of characters from the Throne of Glass series.\", \"parameters\": {\"type\": \"dict\", \"properties\": {\"limit\": {\"description\": \"The maximum number of characters to return\", \"type\": \"int\"}, \"skip\": {\"description\": \"The number of characters to skip before returning the results\", \"type\": \"int\"}}, \"required\": []}, \"required\": null}, {\"name\": \"Get EuroMillions Draw Results\", \"description\": \"Retrieve the draw results for a specific string from the EuroMillions lottery\", \"parameters\": {\"type\": \"dict\", \"properties\": {\"string\": {\"description\": \"The string for which you want to retrieve the draw results\", \"type\": \"string\", \"format\": \"string\"}}, \"required\": [\"string\"]}, \"required\": null}]. \\nShould you decide to return the function call(s). \\nPut it in the format of [func1(params_name=params_value, params_name2=params_value2...), func2(params)]\\n\\nNO other text MUST be included. \\n'},\n",
       "  {'from': 'user',\n",
       "   'value': 'Could you please show me the latest trending videos on YouTube?'},\n",
       "  {'from': 'assistant', 'value': '[Trending Videos()]'},\n",
       "  {'from': 'tool',\n",
       "   'value': '[{\"name\": \"Trending Videos\", \"results\": {\"videos\": [{\"id\": \"dQw4w9WgXcQ\", \"title\": \"Rick Astley - Never Gonna Give You Up\", \"description\": \"The classic song that has been popular for years as an internet meme.\", \"thumbnail\": \"https://i.ytimg.com/vi/dQw4w9WgXcQ/hqdefault.jpg\", \"url\": \"https://www.youtube.com/watch?v=dQw4w9WgXcQ\", \"views\": 850000000, \"likes\": 10000000, \"comments\": 1300000}, {\"id\": \"CevxZvSJLk8\", \"title\": \"Katy Perry - Roar\", \"description\": \"Katy Perry\\'s hit song with an empowering message.\", \"thumbnail\": \"https://i.ytimg.com/vi/CevxZvSJLk8/hqdefault.jpg\", \"url\": \"https://www.youtube.com/watch?v=CevxZvSJLk8\", \"views\": 3200000000, \"likes\": 12000000, \"comments\": 2250000}, {\"id\": \"kXYiU_JCYtU\", \"title\": \"Linkin Park - Numb\", \"description\": \"One of the most recognized songs from Linkin Park.\", \"thumbnail\": \"https://i.ytimg.com/vi/kXYiU_JCYtU/hqdefault.jpg\", \"url\": \"https://www.youtube.com/watch?v=kXYiU_JCYtU\", \"views\": 1500000000, \"likes\": 17000000, \"comments\": 1900000}]}}]'},\n",
       "  {'from': 'assistant',\n",
       "   'value': 'Here are the latest trending videos on YouTube:\\n\\n1. \"Rick Astley - Never Gonna Give You Up\" has been popular for years as an internet meme. You can watch it [here](https://www.youtube.com/watch?v=dQw4w9WgXcQ). So far, it has gained 850,000,000 views, 10,000,000 likes, and 1,300,000 comments.\\n\\n![Rick Astley - Never Gonna Give You Up](https://i.ytimg.com/vi/dQw4w9WgXcQ/hqdefault.jpg)\\n\\n2. \"Katy Perry - Roar\" is a hit song with an empowering message. You can listen to it [here](https://www.youtube.com/watch?v=CevxZvSJLk8). The video has racked up a whopping 3,200,000,000 views, 12,000,000 likes, and 2,250,000 comments.\\n\\n![Katy Perry - Roar](https://i.ytimg.com/vi/CevxZvSJLk8/hqdefault.jpg)\\n\\n3. \"Linkin Park - Numb\" is one of the most recognized songs from Linkin Park. You can enjoy it [here](https://www.youtube.com/watch?v=kXYiU_JCYtU). Until now, this video has collected 1,500,000,000 views, 17,000,000 likes, and 1,900,000 comments.\\n\\n![Linkin Park - Numb](https://i.ytimg.com/vi/kXYiU_JCYtU/hqdefault.jpg)\\n\\nPlease enjoy watching these trending videos!'},\n",
       "  {'from': 'user',\n",
       "   'value': \"Ah, there's nothing quite like sitting back and checking out what's trending. Today's scene seems diverse; it's fascinating to see Rick Astley, Katy Perry, and Linkin Park trending together - it really underscores the broad tastes across YouTube's audience!\"},\n",
       "  {'from': 'assistant',\n",
       "   'value': 'You\\'re absolutely right! The wide range of trending videos, from internet memes like Rick Astley\\'s \"Never Gonna Give You Up\" to empowering songs such as \"Roar\" by Katy Perry, and time-honored classics like Linkin Park\\'s \"Numb\", really reflects the diverse interests of YouTube viewers. It\\'s one of the aspects that makes YouTube a great platform - there\\'s truly something for everyone. Whether you\\'re into music, comedy, education, news, or any other subject, YouTube\\'s trending videos provide a snapshot of what a broad audience is appreciating at any given time. Enjoy exploring more!'},\n",
       "  {'from': 'user',\n",
       "   'value': 'Could you also find out what the latest EuroMillions draw results were?'},\n",
       "  {'from': 'assistant',\n",
       "   'value': 'Could you please provide the specific date or identifier for the EuroMillions draw you are interested in?'}]}"
      ]
     },
     "execution_count": 27,
     "metadata": {},
     "output_type": "execute_result"
    }
   ],
   "source": [
    "d[5]"
   ]
  },
  {
   "cell_type": "code",
   "execution_count": null,
   "id": "73022b52-ff2a-4488-beaf-292e9af41910",
   "metadata": {},
   "outputs": [],
   "source": []
  }
 ],
 "metadata": {
  "kernelspec": {
   "display_name": "Python 3 (ipykernel)",
   "language": "python",
   "name": "python3"
  },
  "language_info": {
   "codemirror_mode": {
    "name": "ipython",
    "version": 3
   },
   "file_extension": ".py",
   "mimetype": "text/x-python",
   "name": "python",
   "nbconvert_exporter": "python",
   "pygments_lexer": "ipython3",
   "version": "3.10.16"
  }
 },
 "nbformat": 4,
 "nbformat_minor": 5
}
